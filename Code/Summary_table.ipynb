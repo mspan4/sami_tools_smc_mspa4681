{
 "cells": [
  {
   "cell_type": "code",
   "execution_count": 25,
   "id": "26473ac6",
   "metadata": {},
   "outputs": [],
   "source": [
    "import numpy as np\n",
    "import astropy\n",
    "from astropy.io import ascii\n",
    "import matplotlib.pyplot as plt\n",
    "from astropy.io import fits\n",
    "from astropy.coordinates import SkyCoord\n",
    "from astropy.table import Table\n",
    "from matplotlib.colors import LogNorm\n",
    "from astropy.table import join\n",
    "\n",
    "# Important file directories:\n",
    "\n",
    "Source_dir =\"C:\\\\Users\\\\mspan\\\\OneDrive - The University of Sydney (Students)\\\\Honours\\\\Honours Project\\\\\"\n",
    "shared_catalogue_filepath = Source_dir +  \"SAMI_TOOLS_SMC_MSPA4681\\\\shared_catalogues\\\\\"\n",
    "\n",
    "\n",
    "SAMI_spectra_catalogue = \"EmissionLine1compDR3.fits\"\n",
    "import all_fctns\n",
    "import importlib\n",
    "from all_fctns import *  # your module\n",
    "importlib.reload(all_fctns)\n",
    "\n",
    "def refresh_module():\n",
    "    import importlib\n",
    "    import all_fctns\n",
    "    \n",
    "    importlib.reload(all_fctns)\n",
    "    "
   ]
  },
  {
   "cell_type": "code",
   "execution_count": 85,
   "id": "a50cd829",
   "metadata": {},
   "outputs": [
    {
     "name": "stdout",
     "output_type": "stream",
     "text": [
      "False\n"
     ]
    },
    {
     "name": "stderr",
     "output_type": "stream",
     "text": [
      "c:\\Users\\mspan\\OneDrive - The University of Sydney (Students)\\Honours\\Honours Project\\sami_tools_smc_mspa4681\\Code\\all_fctns.py:196: RuntimeWarning: invalid value encountered in log10\n",
      "  logBPT_y_min = np.log10(BPT_y - BPT_y_error)\n",
      "c:\\Users\\mspan\\OneDrive - The University of Sydney (Students)\\Honours\\Honours Project\\sami_tools_smc_mspa4681\\Code\\all_fctns.py:199: RuntimeWarning: invalid value encountered in log10\n",
      "  logBPT_x_min = np.log10(BPT_x - BPT_x_error)\n"
     ]
    },
    {
     "name": "stdout",
     "output_type": "stream",
     "text": [
      "Rerunning all files to produce new crossmatched catalogue.\n",
      "Combine SAMI Targets Table Saved to: C:\\Users\\mspan\\OneDrive - The University of Sydney (Students)\\Honours\\Honours Project\\Catalogues\\ALL_SAMI_TARGETS.fits\n",
      "Cutout saved to C:\\Users\\mspan\\OneDrive - The University of Sydney (Students)\\Honours\\Honours Project\\Catalogues\\SAMI_target_regions_cutout_RACS-mid1_sources.fits\n",
      "197\n",
      "Number of RACS matches: 197\n",
      "Rerunning all files to produce new crossmatched catalogue.\n",
      "Combine SAMI Targets Table Saved to: C:\\Users\\mspan\\OneDrive - The University of Sydney (Students)\\Honours\\Honours Project\\Catalogues\\ALL_SAMI_TARGETS.fits\n",
      "Cutout saved to C:\\Users\\mspan\\OneDrive - The University of Sydney (Students)\\Honours\\Honours Project\\Catalogues\\SAMI_target_regions_cutout_LARGESS.fits\n",
      "107\n",
      "Number of LARGESS matches: 107\n",
      "Rerunning all files to produce new crossmatched catalogue.\n",
      "Combine SAMI Targets Table Saved to: C:\\Users\\mspan\\OneDrive - The University of Sydney (Students)\\Honours\\Honours Project\\Catalogues\\ALL_SAMI_TARGETS.fits\n",
      "Cutout saved to C:\\Users\\mspan\\OneDrive - The University of Sydney (Students)\\Honours\\Honours Project\\Catalogues\\SAMI_target_regions_cutout_eRASS1_Main.v1.1.fits\n",
      "27\n",
      "Number of XRay matches: 27\n",
      "Summary Table Saved to: C:\\Users\\mspan\\OneDrive - The University of Sydney (Students)\\Honours\\Honours Project\\Catalogues\\Crossmatched\\SAMI_AGN_matches.fits\n",
      "Summary Table Saved to: C:\\Users\\mspan\\OneDrive - The University of Sydney (Students)\\Honours\\Honours Project\\sami_tools_smc_mspa4681\\shared_catalogues\\SAMI_AGN_matches.fits\n"
     ]
    },
    {
     "data": {
      "text/html": [
       "<div><i>Table length=3068</i>\n",
       "<table id=\"table2419837883440\" class=\"table-striped table-bordered table-condensed\">\n",
       "<thead><tr><th>CUBEIDPUB</th><th>CUBEID</th><th>CATID</th><th>IS_BPT_AGN</th><th>CATEGORY_BPT_AGN</th><th>IS_OTHER_BPT_AGN</th><th>WARN_BPT_SN</th><th>WARN_AGN_OTHER_BPT</th><th>WARN_AGN_TYPE_OTHER_BPT</th><th>IS_RADIOSOURCE</th><th>IS_RACSSOURCE</th><th>RACS_MATCHED_ID</th><th>RACS_TOTALFLUX</th><th>RACS_TOTALFLUX_ERR</th><th>RACS_SOURCE_CLASSIFICATION</th><th>IS_LARGESSSOURCE</th><th>LARGESS_MATCHED_ID</th><th>LARGESS_imod</th><th>LARGESS_e_imod</th><th>N_FIRST</th><th>FIRST_TOTALFLUX</th><th>N_NVSS</th><th>NVSS_TOTALFLUX</th><th>IS_XRAYSOURCE</th><th>eRASS1_MATCHED_ID</th><th>eRASS1_TOTALFLUX_1</th><th>eRASS1_TOTALFLUX_1_ERR</th><th>eRASS1_TOTALFLUX_2</th><th>eRASS1_TOTALFLUX_2_ERR</th><th>eRASS1_TOTALFLUX_3</th><th>eRASS1_TOTALFLUX_3_ERR</th><th>IS_HERG</th><th>IS_BROADLINE_AGN</th><th>M_STAR</th><th>Z_SPEC</th><th>SAMI_REGION</th><th>SFR_SAMI</th><th>SFR_SAMI_FLAG</th></tr></thead>\n",
       "<thead><tr><th>str16</th><th>str80</th><th>int64</th><th>int64</th><th>int64</th><th>int64</th><th>int64</th><th>int64</th><th>int64</th><th>int64</th><th>int64</th><th>str17</th><th>float64</th><th>float64</th><th>str1</th><th>int64</th><th>str19</th><th>float64</th><th>float64</th><th>int64</th><th>float64</th><th>int64</th><th>float64</th><th>int64</th><th>str23</th><th>float32</th><th>float32</th><th>float32</th><th>float32</th><th>float32</th><th>float32</th><th>int64</th><th>int64</th><th>float32</th><th>float64</th><th>str8</th><th>float64</th><th>float64</th></tr></thead>\n",
       "<tr><td>6821_A</td><td>6821_7_Y18SAR4_P001_12T126_2018_05_07-2018_05_16</td><td>6821</td><td>0</td><td>0</td><td>1</td><td>0</td><td>0</td><td>0</td><td>0</td><td>0</td><td>--</td><td>--</td><td>--</td><td>--</td><td>0</td><td>--</td><td>--</td><td>--</td><td>--</td><td>--</td><td>--</td><td>--</td><td>0</td><td>--</td><td>--</td><td>--</td><td>--</td><td>--</td><td>--</td><td>--</td><td>--</td><td>0</td><td>7.42</td><td>0.004430000204592943</td><td>GAMA</td><td>-0.8337829957020938</td><td>2.0</td></tr>\n",
       "<tr><td>6837_A</td><td>6837_7_Y18SAR4_P001_12T126_2018_05_07-2018_05_16</td><td>6837</td><td>0</td><td>0</td><td>0</td><td>0</td><td>0</td><td>0</td><td>0</td><td>0</td><td>--</td><td>--</td><td>--</td><td>--</td><td>0</td><td>--</td><td>--</td><td>--</td><td>--</td><td>--</td><td>--</td><td>--</td><td>0</td><td>--</td><td>--</td><td>--</td><td>--</td><td>--</td><td>--</td><td>--</td><td>--</td><td>0</td><td>--</td><td>0.07423999905586243</td><td>Filler</td><td>-0.10811913977560492</td><td>1.0</td></tr>\n",
       "<tr><td>7139_A</td><td>7139_7_Y18SAR3_P002_12T122_2018_05_07-2018_05_16</td><td>7139</td><td>1</td><td>6</td><td>1</td><td>0</td><td>0</td><td>0</td><td>0</td><td>0</td><td>--</td><td>--</td><td>--</td><td>--</td><td>0</td><td>--</td><td>--</td><td>--</td><td>--</td><td>--</td><td>--</td><td>--</td><td>0</td><td>--</td><td>--</td><td>--</td><td>--</td><td>--</td><td>--</td><td>--</td><td>--</td><td>0</td><td>10.63</td><td>0.07697000354528427</td><td>GAMA</td><td>-1.4812175131637677</td><td>0.0</td></tr>\n",
       "<tr><td>7206_A</td><td>7206_7_Y18SAR3_P002_12T122_2018_05_07-2018_05_16</td><td>7206</td><td>0</td><td>2</td><td>0</td><td>0</td><td>0</td><td>0</td><td>0</td><td>0</td><td>--</td><td>--</td><td>--</td><td>--</td><td>0</td><td>--</td><td>--</td><td>--</td><td>--</td><td>--</td><td>--</td><td>--</td><td>0</td><td>--</td><td>--</td><td>--</td><td>--</td><td>--</td><td>--</td><td>--</td><td>--</td><td>0</td><td>10.48</td><td>0.09470999985933304</td><td>GAMA</td><td>0.5071057664992104</td><td>0.0</td></tr>\n",
       "<tr><td>7289_A</td><td>7289_7_Y18SAR3_P002_12T122_2018_05_07-2018_05_16</td><td>7289</td><td>1</td><td>10</td><td>1</td><td>0</td><td>1</td><td>1</td><td>0</td><td>0</td><td>--</td><td>--</td><td>--</td><td>--</td><td>0</td><td>--</td><td>--</td><td>--</td><td>--</td><td>--</td><td>--</td><td>--</td><td>0</td><td>--</td><td>--</td><td>--</td><td>--</td><td>--</td><td>--</td><td>--</td><td>--</td><td>0</td><td>11.12</td><td>0.08812999725341797</td><td>GAMA</td><td>-0.42963751393666283</td><td>0.0</td></tr>\n",
       "<tr><td>7715_A</td><td>7715_7_Y14SAR4_P002_12T064_2014_05_23-2014_06_01</td><td>7715</td><td>0</td><td>-1</td><td>1</td><td>0</td><td>0</td><td>0</td><td>0</td><td>0</td><td>--</td><td>--</td><td>--</td><td>--</td><td>0</td><td>--</td><td>--</td><td>--</td><td>--</td><td>--</td><td>--</td><td>--</td><td>0</td><td>--</td><td>--</td><td>--</td><td>--</td><td>--</td><td>--</td><td>--</td><td>--</td><td>0</td><td>10.99</td><td>0.07926999777555466</td><td>GAMA</td><td>-0.9876825301304426</td><td>0.0</td></tr>\n",
       "<tr><td>7839_A</td><td>7839_7_Y16SAR4_P002_12T101_2017_04_19-2017_05_01</td><td>7839</td><td>1</td><td>6</td><td>1</td><td>0</td><td>1</td><td>1</td><td>1</td><td>0</td><td>--</td><td>--</td><td>--</td><td>--</td><td>1</td><td>J115827.70+004304.4</td><td>14.397</td><td>0.002</td><td>1</td><td>1.35</td><td>0</td><td>-99.0</td><td>0</td><td>--</td><td>--</td><td>--</td><td>--</td><td>--</td><td>--</td><td>--</td><td>0</td><td>0</td><td>11.05</td><td>0.048739999532699585</td><td>GAMA</td><td>-0.9330332098451861</td><td>1.0</td></tr>\n",
       "<tr><td>7841_A</td><td>7841_7_Y14SAR4_P002_12T064_2014_05_23-2014_06_01</td><td>7841</td><td>0</td><td>-1</td><td>0</td><td>0</td><td>0</td><td>0</td><td>1</td><td>0</td><td>--</td><td>--</td><td>--</td><td>--</td><td>0</td><td>--</td><td>--</td><td>--</td><td>--</td><td>--</td><td>--</td><td>--</td><td>0</td><td>--</td><td>--</td><td>--</td><td>--</td><td>--</td><td>--</td><td>--</td><td>-1</td><td>0</td><td>10.96</td><td>0.0798100009560585</td><td>GAMA</td><td>-1.3503192190613338</td><td>0.0</td></tr>\n",
       "<tr><td>7946_A</td><td>7946_7_Y16SAR4_P002_12T101_2017_04_19-2017_05_01</td><td>7946</td><td>1</td><td>6</td><td>1</td><td>0</td><td>1</td><td>1</td><td>0</td><td>0</td><td>--</td><td>--</td><td>--</td><td>--</td><td>0</td><td>--</td><td>--</td><td>--</td><td>--</td><td>--</td><td>--</td><td>--</td><td>0</td><td>--</td><td>--</td><td>--</td><td>--</td><td>--</td><td>--</td><td>--</td><td>--</td><td>0</td><td>10.92</td><td>0.10426999628543854</td><td>GAMA</td><td>0.07435618623620215</td><td>0.0</td></tr>\n",
       "<tr><td>...</td><td>...</td><td>...</td><td>...</td><td>...</td><td>...</td><td>...</td><td>...</td><td>...</td><td>...</td><td>...</td><td>...</td><td>...</td><td>...</td><td>...</td><td>...</td><td>...</td><td>...</td><td>...</td><td>...</td><td>...</td><td>...</td><td>...</td><td>...</td><td>...</td><td>...</td><td>...</td><td>...</td><td>...</td><td>...</td><td>...</td><td>...</td><td>...</td><td>...</td><td>...</td><td>...</td><td>...</td><td>...</td></tr>\n",
       "<tr><td>9403801061_A</td><td>9403801061_7_Y13SBR2_P006_A4038T004_2013_10_02-2013_10_08</td><td>9403801061</td><td>0</td><td>2</td><td>0</td><td>0</td><td>0</td><td>0</td><td>0</td><td>0</td><td>--</td><td>--</td><td>--</td><td>--</td><td>0</td><td>--</td><td>--</td><td>--</td><td>--</td><td>--</td><td>--</td><td>--</td><td>0</td><td>--</td><td>--</td><td>--</td><td>--</td><td>--</td><td>--</td><td>--</td><td>--</td><td>0</td><td>10.300241</td><td>0.029967857524752617</td><td>Clusters</td><td>nan</td><td>nan</td></tr>\n",
       "<tr><td>9403801062_A</td><td>9403801062_7_Y16SBR2_P001_A4038T032_2016_09_28-2016_10_04</td><td>9403801062</td><td>0</td><td>-1</td><td>0</td><td>0</td><td>0</td><td>0</td><td>0</td><td>0</td><td>--</td><td>--</td><td>--</td><td>--</td><td>0</td><td>--</td><td>--</td><td>--</td><td>--</td><td>--</td><td>--</td><td>--</td><td>0</td><td>--</td><td>--</td><td>--</td><td>--</td><td>--</td><td>--</td><td>--</td><td>--</td><td>0</td><td>9.767844</td><td>0.027462024241685867</td><td>Clusters</td><td>-1.3396002942453062</td><td>3.0</td></tr>\n",
       "<tr><td>9403801088_A</td><td>9403801088_7_Y15SBR1_P005_A4038T027_2015_09_07-2015_09_13</td><td>9403801088</td><td>0</td><td>-1</td><td>0</td><td>0</td><td>0</td><td>0</td><td>0</td><td>0</td><td>--</td><td>--</td><td>--</td><td>--</td><td>0</td><td>--</td><td>--</td><td>--</td><td>--</td><td>--</td><td>--</td><td>--</td><td>0</td><td>--</td><td>--</td><td>--</td><td>--</td><td>--</td><td>--</td><td>--</td><td>--</td><td>0</td><td>10.251946</td><td>0.027636997401714325</td><td>Clusters</td><td>nan</td><td>nan</td></tr>\n",
       "<tr><td>9403801173_A</td><td>9403801173_7_Y13SBR2_P006_A4038T004_2013_10_02-2013_10_08</td><td>9403801173</td><td>0</td><td>-1</td><td>0</td><td>0</td><td>0</td><td>0</td><td>0</td><td>0</td><td>--</td><td>--</td><td>--</td><td>--</td><td>0</td><td>--</td><td>--</td><td>--</td><td>--</td><td>--</td><td>--</td><td>--</td><td>0</td><td>--</td><td>--</td><td>--</td><td>--</td><td>--</td><td>--</td><td>--</td><td>--</td><td>0</td><td>9.867504</td><td>0.026638472452759743</td><td>Clusters</td><td>nan</td><td>nan</td></tr>\n",
       "<tr><td>9403801183_A</td><td>9403801183_7_Y16SBR2_P001_A4038T032_2016_09_28-2016_10_04</td><td>9403801183</td><td>1</td><td>6</td><td>1</td><td>0</td><td>1</td><td>1</td><td>0</td><td>0</td><td>--</td><td>--</td><td>--</td><td>--</td><td>0</td><td>--</td><td>--</td><td>--</td><td>--</td><td>--</td><td>--</td><td>--</td><td>0</td><td>--</td><td>--</td><td>--</td><td>--</td><td>--</td><td>--</td><td>--</td><td>--</td><td>0</td><td>10.734562</td><td>0.027663657441735268</td><td>Clusters</td><td>nan</td><td>nan</td></tr>\n",
       "<tr><td>9403801268_A</td><td>9403801268_7_Y16SBR2_P001_A4038T032_2016_09_28-2016_10_04</td><td>9403801268</td><td>0</td><td>2</td><td>0</td><td>0</td><td>0</td><td>0</td><td>0</td><td>0</td><td>--</td><td>--</td><td>--</td><td>--</td><td>0</td><td>--</td><td>--</td><td>--</td><td>--</td><td>--</td><td>--</td><td>--</td><td>0</td><td>--</td><td>--</td><td>--</td><td>--</td><td>--</td><td>--</td><td>--</td><td>--</td><td>0</td><td>10.519668</td><td>0.03057241067290306</td><td>Clusters</td><td>nan</td><td>nan</td></tr>\n",
       "<tr><td>9403801272_A</td><td>9403801272_7_Y13SBR2_P006_A4038T004_2013_10_02-2013_10_08</td><td>9403801272</td><td>0</td><td>2</td><td>0</td><td>0</td><td>0</td><td>0</td><td>0</td><td>1</td><td>RACS_2348-28_1724</td><td>2.364896281715545</td><td>0.6177508818375143</td><td>S</td><td>0</td><td>--</td><td>--</td><td>--</td><td>--</td><td>--</td><td>--</td><td>--</td><td>0</td><td>--</td><td>--</td><td>--</td><td>--</td><td>--</td><td>--</td><td>--</td><td>--</td><td>0</td><td>10.2891245</td><td>0.03505723923444748</td><td>Clusters</td><td>nan</td><td>nan</td></tr>\n",
       "<tr><td>9403801281_A</td><td>9403801281_7_Y16SBR2_P001_A4038T032_2016_09_28-2016_10_04</td><td>9403801281</td><td>0</td><td>0</td><td>0</td><td>0</td><td>0</td><td>0</td><td>0</td><td>0</td><td>--</td><td>--</td><td>--</td><td>--</td><td>0</td><td>--</td><td>--</td><td>--</td><td>--</td><td>--</td><td>--</td><td>--</td><td>0</td><td>--</td><td>--</td><td>--</td><td>--</td><td>--</td><td>--</td><td>--</td><td>--</td><td>0</td><td>9.801854</td><td>0.028461286798119545</td><td>Clusters</td><td>nan</td><td>nan</td></tr>\n",
       "<tr><td>9403801368_A</td><td>9403801368_7_Y13SBR2_P006_A4038T004_2013_10_02-2013_10_08</td><td>9403801368</td><td>0</td><td>2</td><td>0</td><td>0</td><td>0</td><td>0</td><td>0</td><td>1</td><td>RACS_2348-28_1710</td><td>94.02077048564108</td><td>5.940757353859464</td><td>M</td><td>0</td><td>--</td><td>--</td><td>--</td><td>--</td><td>--</td><td>--</td><td>--</td><td>0</td><td>--</td><td>--</td><td>--</td><td>--</td><td>--</td><td>--</td><td>--</td><td>--</td><td>0</td><td>11.465432</td><td>0.02746620774269104</td><td>Clusters</td><td>nan</td><td>nan</td></tr>\n",
       "<tr><td>9403801579_A</td><td>9403801579_7_Y16SBR2_P001_A4038T032_2016_09_28-2016_10_04</td><td>9403801579</td><td>0</td><td>0</td><td>0</td><td>0</td><td>0</td><td>0</td><td>0</td><td>0</td><td>--</td><td>--</td><td>--</td><td>--</td><td>0</td><td>--</td><td>--</td><td>--</td><td>--</td><td>--</td><td>--</td><td>--</td><td>0</td><td>--</td><td>--</td><td>--</td><td>--</td><td>--</td><td>--</td><td>--</td><td>--</td><td>0</td><td>9.642783</td><td>0.028201403096318245</td><td>Clusters</td><td>nan</td><td>nan</td></tr>\n",
       "</table></div>"
      ],
      "text/plain": [
       "<Table length=3068>\n",
       " CUBEIDPUB   ... SFR_SAMI_FLAG\n",
       "   str16     ...    float64   \n",
       "------------ ... -------------\n",
       "      6821_A ...           2.0\n",
       "      6837_A ...           1.0\n",
       "      7139_A ...           0.0\n",
       "      7206_A ...           0.0\n",
       "      7289_A ...           0.0\n",
       "      7715_A ...           0.0\n",
       "      7839_A ...           1.0\n",
       "      7841_A ...           0.0\n",
       "      7946_A ...           0.0\n",
       "         ... ...           ...\n",
       "9403801061_A ...           nan\n",
       "9403801062_A ...           3.0\n",
       "9403801088_A ...           nan\n",
       "9403801173_A ...           nan\n",
       "9403801183_A ...           nan\n",
       "9403801268_A ...           nan\n",
       "9403801272_A ...           nan\n",
       "9403801281_A ...           nan\n",
       "9403801368_A ...           nan\n",
       "9403801579_A ...           nan"
      ]
     },
     "execution_count": 85,
     "metadata": {},
     "output_type": "execute_result"
    }
   ],
   "source": [
    "\n",
    "refresh_module()\n",
    "#required strings and tables: \n",
    "catalogue_filepath = Source_dir+\"Catalogues\\\\\"\n",
    "SAMI_spectra_catalogue = \"EmissionLine1compDR3.fits\"\n",
    "SAMI_cubeobs_catalogue = \"CubeObs.fits\"\n",
    "SAMI_Target_catalogues = (\"InputCatGAMADR3.fits\", \"InputCatClustersDR3.fits\", \"InputCatFiller.fits\")\n",
    "SAMI_regions = {0: \"GAMA\", 1: \"Clusters\", 2: \"Filler\"}\n",
    "SAMI_SFR_catalogue = \"AR2022_SAMI_DR3_Mstar_SFR_GSWL_rescaled.fits\"\n",
    "OIII_EW_filepath = shared_catalogue_filepath+\"O_III_EW_table.fits\"\n",
    "\n",
    "\n",
    "diagnostic_diagrams = ( ('BPT', 'N II'), ('BPT', 'S II'), ('BPT', 'O I'))\n",
    "\n",
    "source_types = ('RACS',  'LARGESS', 'XRay')\n",
    "Radio_source_types = ('RACS', 'LARGESS')\n",
    "\n",
    "Radio_catalogues = \"RACS-mid1_sources.fits\"\n",
    "LARGESS_catalogues = \"LARGESS.fits\"\n",
    "Xray_catalogues = \"eRASS1_Main.v1.1.fits\"\n",
    "\n",
    "# all formatted so keys are the catalogue column names and values are the SAMI summary table column names\n",
    "RACS_cols_to_include = {'Source_ID': 'RACS_MATCHED_ID', 'Total_flux': 'RACS_TOTALFLUX', 'E_Total_flux': 'RACS_TOTALFLUX_ERR', 'S_Code': 'RACS_SOURCE_CLASSIFICATION'}\n",
    "LARGESS_cols_to_include = {'Name': 'LARGESS_MATCHED_ID', 'imod': 'LARGESS_imod', 'e_imod': 'LARGESS_e_imod', \n",
    "                           'NFIRST':'N_FIRST', 'FFIRST':'FIRST_TOTALFLUX', # FIRST columns from LARGESS\n",
    "                           'NNVSS':'N_NVSS', 'FNVSS':'NVSS_TOTALFLUX', # NVSS columns from LARGESS             \n",
    "                            }\n",
    "eRASS1_cols_to_include = {'IAUNAME': 'eRASS1_MATCHED_ID', \n",
    "                           'ML_FLUX_1': 'eRASS1_TOTALFLUX_1', 'ML_FLUX_ERR_1': 'eRASS1_TOTALFLUX_1_ERR', #0.2-2.3 keV band\n",
    "                           'ML_FLUX_P4': 'eRASS1_TOTALFLUX_2', 'ML_FLUX_ERR_P4': 'eRASS1_TOTALFLUX_2_ERR', #2.0-5.0keV band\n",
    "                           'ML_FLUX_P6': 'eRASS1_TOTALFLUX_3', 'ML_FLUX_ERR_P6': 'eRASS1_TOTALFLUX_3_ERR', #4.0-10.0keV band\n",
    "                           } \n",
    "\n",
    "# format is Survey_type: (catalogue_filenames, max_sep_arcsec, position_colnames, cols_to_include)\n",
    "crossmatching_survey_parameters = {'RACS':     ( Radio_catalogues,     5, ('RA', 'Dec'),      RACS_cols_to_include), \n",
    "                                   'LARGESS':   ( LARGESS_catalogues,   2, ('RAdeg', 'DEdeg'),  LARGESS_cols_to_include), \n",
    "                                   'XRay':      ( Xray_catalogues,     15, (\"RA\", \"DEC\"),       eRASS1_cols_to_include)   }\n",
    "\n",
    "\n",
    "\n",
    "\n",
    "broadline_CATIDs = [137809, 238358, 298590, 323854, 3631902, 376679, 463148, 491508, 718921, 9008500673, 9011900430, 9016800276]\n",
    "# CATID of broadline AGN in SAMI catalogue - as identified by Scott Croom \n",
    "\n",
    "\n",
    "#variables\n",
    "SN_lim = 5 # signal noise limit for bpt diagrams\n",
    "rerun_all_files = True\n",
    "save_file= True  \n",
    "\n",
    "\n",
    "\n",
    "#Initialise table with first 3 columns: 'CUBEID', 'CUBEIDPUB', 'CATID' from CubeObs\n",
    "with fits.open(catalogue_filepath+SAMI_cubeobs_catalogue) as SAMI_CubeObs_hdul:\n",
    "    SAMI_CubeObs_table_hdu =  Table(SAMI_CubeObs_hdul[1].data)\n",
    "    SAMI_CubeObs_table_hdu.sort('CATID')\n",
    "\n",
    "Summary_table_hdu = SAMI_CubeObs_table_hdu.copy()\n",
    "Summary_table_hdu.keep_columns(('CUBEID', 'CUBEIDPUB', 'CATID'))\n",
    "\n",
    "# get mask of best cubes so only keep the best cubes in summary table\n",
    "is_best_cube = SAMI_CubeObs_table_hdu['ISBEST']==1\n",
    "CUBEIDPUB_best_cubes = SAMI_CubeObs_table_hdu[is_best_cube]['CUBEIDPUB']\n",
    "Summary_table_hdu = Summary_table_hdu[np.isin(Summary_table_hdu['CUBEIDPUB'], CUBEIDPUB_best_cubes)]\n",
    "\n",
    "# mask out all of the stars\n",
    "CATID_stars = SAMI_CubeObs_table_hdu['CATID'][SAMI_CubeObs_table_hdu['WARNSTAR']==1]\n",
    "Summary_table_hdu = Summary_table_hdu[~np.isin(Summary_table_hdu['CATID'], CATID_stars)]\n",
    "\n",
    "print(999091700201 in Summary_table_hdu['CATID'])\n",
    "\n",
    "\n",
    "# BPT AGN columns: \n",
    "\n",
    "with fits.open(catalogue_filepath+SAMI_spectra_catalogue) as SAMI_spectra_hdul:\n",
    "    SAMI_spectra_table_hdu = Table(SAMI_spectra_hdul[1].data)\n",
    "    SAMI_spectra_table_hdu.sort('CATID')\n",
    "\n",
    " # initialise a BPT summary table to join with overall summary table\n",
    "Summary_BPT_table_hdu = SAMI_spectra_table_hdu.copy()\n",
    "Summary_BPT_table_hdu.keep_columns(('CUBEID', 'CUBEIDPUB', 'CATID'))\n",
    "Summary_BPT_table_len = len(Summary_BPT_table_hdu)\n",
    "\n",
    "# the CUBEIDPUB column for the spectra catalogue contains extra whitespace, so remove it\n",
    "Summary_BPT_table_hdu['CUBEIDPUB'] = [a.strip(' ') for a in Summary_BPT_table_hdu['CUBEIDPUB']]\n",
    "# same for CUBEID\n",
    "Summary_BPT_table_hdu['CUBEID'] = [a.strip(' ') for a in Summary_BPT_table_hdu['CUBEID']]\n",
    "\n",
    "\n",
    "\n",
    "'''\n",
    "IS_BPT_AGN - Flag to indicate 1.4 arcsec aperture emission data is located within the AGN region in a O[III]/[H\\beta] v [NII]/[H\\alpha] BPT diagram as defined in (Kewley, 2001)\n",
    "CATEGORY_BPT_AGN - Region galaxies 1.4 arcsec aperture emission data is located in on O[III]/[H\\beta] v [NII]/[H\\alpha] BPT diagram. Integer value is based on region in BPT:\n",
    "            -1 - S/N above threshold or no spectra for both axes \\\\\n",
    "            0 - Star-forming \\\\\n",
    "\t\t\t1 - located on Star-forming / Composite region boundary \\\\\n",
    "\t\t\t2 - Composite \\\\\n",
    "\t\t\t3 - located on Composite / AGN region boundary \\\\\n",
    "            4 - Located Across Star-forming / Composite / AGN regions \\\\\n",
    "            5 - Located on Star-forming / AGN region boundary before intercept point in NII BPT\\\\\n",
    "\t\t\t6 - LINER \\\\\n",
    "\t\t\t7 - Seyfert \\\\\n",
    "\t\t\t8 - located on LINER / Seyfert boundary \\\\\n",
    "            9 - AGN based only on O III / H\\\\beta \\\\\n",
    "            10 - AGN based only on {metal} / H\\\\alpha \\\\             \n",
    "IS_POSSIBLE_BPT_AGN - Flag to indicate 1.4 arcsec aperture emission data is located within AGN region in either [SII] or [OI] BPT diagrams as defined in (Kewley, 2001)\n",
    "WARN_BPT_SN\t- Flag to indicate high-S/N (>5) of 1.4 arcsec aperture emission data used in O[III]/[H\\beta] v [NII]/[H\\alpha] BPT plot\n",
    "WARN_AGN_OTHER_BPT - Flag to indicate galaxy emission data is not located in AGN region in [SII]/[H\\alpha] or [OI]/[H\\alpha] BPT plots defined in (Kewley, 2001) \n",
    "WARN_AGN_TYPE_OTHER_BPT - Flag to indicate galaxy emission data is not located in the same AGN type region in [SII]/[H\\alpha] or [OI]/[H\\alpha] BPT plots compared to [NII]/[H\\alpha] BPT classification, bounds defined in (Kewley, 2006)\n",
    "'''\n",
    "\n",
    "\n",
    "OIII_flux, OIII_error = all_fctns.get_flux_and_error_1_4_ARCSEC(SAMI_spectra_table_hdu, 'O III')\n",
    "HBeta_flux, HBeta_error = all_fctns.get_flux_and_error_1_4_ARCSEC(SAMI_spectra_table_hdu, 'H Beta')\n",
    "HAlpha_flux, HAlpha_error = all_fctns.get_flux_and_error_1_4_ARCSEC(SAMI_spectra_table_hdu, 'H Alpha')\n",
    "\n",
    "\n",
    "    # initialise arrays for other BPT diagrams:\n",
    "other_AGN_array = np.zeros(Summary_BPT_table_len, dtype=bool)\n",
    "Warning_not_AGN_other_BPT_array = np.zeros(Summary_BPT_table_len, dtype=bool)\n",
    "Warning_different_AGN_type_other_BPT_array = np.zeros(Summary_BPT_table_len, dtype=bool)\n",
    "\n",
    "for diagnostic_diagram in diagnostic_diagrams:\n",
    "    plot_type = diagnostic_diagram[0]\n",
    "    bpt_metal = diagnostic_diagram[1]\n",
    "\n",
    "    metal_flux, metal_error = all_fctns.get_flux_and_error_1_4_ARCSEC(SAMI_spectra_table_hdu, bpt_metal)\n",
    "\n",
    "    BPT_y = OIII_flux/HBeta_flux\n",
    "    BPT_x = metal_flux/HAlpha_flux\n",
    "\n",
    "    BPT_y_error = np.abs(BPT_y * np.sqrt( (OIII_error/OIII_flux)**2+(HBeta_error/HBeta_flux)**2))\n",
    "    BPT_x_error = np.abs(BPT_x * np.sqrt( (metal_error/metal_flux)**2+(HAlpha_error/HAlpha_flux)**2))\n",
    "\n",
    "    SN_array = np.max(np.array([BPT_y_error/BPT_y, BPT_x_error/BPT_x]), axis=0)\n",
    "\n",
    "    SN_flag = SN_array > SN_lim\n",
    "\n",
    "    galaxy_type_array, is_AGN_array = all_fctns.get_BPT_AGN_classification(BPT_x, BPT_x_error, BPT_y, BPT_y_error, metal = bpt_metal)\n",
    "    if bpt_metal == 'N II':\n",
    "        # set these array values as they will be used later to build the main BPT columns\n",
    "        Category_BPT_array = galaxy_type_array.copy()\n",
    "        Is_BPT_array = is_AGN_array.copy()\n",
    "        Warning_BPT_SN_array = SN_flag.copy()\n",
    "\n",
    "    else:\n",
    "        # update possible AGN array if is AGN in other BPT\n",
    "        other_AGN_array = other_AGN_array | is_AGN_array \n",
    "\n",
    "        # update warning if not an AGN in other BPT (only if was originally considered an AGN)\n",
    "        Warning_not_AGN_other_BPT_array = Warning_not_AGN_other_BPT_array | (~is_AGN_array & Is_BPT_array) \n",
    "\n",
    "        # update warning if different type of AGN in other BPT\n",
    "        same_AGN_type_array =  (Category_BPT_array == galaxy_type_array)\n",
    "        Warning_different_AGN_type_other_BPT_array = Warning_different_AGN_type_other_BPT_array | (~same_AGN_type_array & Is_BPT_array) \n",
    "\n",
    "# IS_BPT_AGN\n",
    "Summary_BPT_table_hdu.add_column(astropy.table.Column(Is_BPT_array, name=f'IS_BPT_AGN', dtype=int))\n",
    "\n",
    "# CATEGORY_BPT_AGN\n",
    "Summary_BPT_table_hdu.add_column(astropy.table.Column(Category_BPT_array, name=f'CATEGORY_BPT_AGN', dtype=int))\n",
    "\n",
    "# IS_OTHER_BPT_AGN\n",
    "Summary_BPT_table_hdu.add_column(astropy.table.Column(other_AGN_array, name=f'IS_OTHER_BPT_AGN', dtype=int))\n",
    "\n",
    "# WARN_BPT_SN\n",
    "Summary_BPT_table_hdu.add_column(astropy.table.Column(Warning_BPT_SN_array, name=f'WARN_BPT_SN', dtype=int))\n",
    "\n",
    "# WARN_AGN_OTHER_BPT\n",
    "Summary_BPT_table_hdu.add_column(astropy.table.Column(Warning_not_AGN_other_BPT_array, name=f'WARN_AGN_OTHER_BPT', dtype=int))\n",
    "\n",
    "# WARN_AGN_TYPE_OTHER_BPT\n",
    "Summary_BPT_table_hdu.add_column(astropy.table.Column(Warning_different_AGN_type_other_BPT_array, name=f'WARN_AGN_TYPE_OTHER_BPT', dtype=int))\n",
    "\n",
    "Summary_table_hdu= join(Summary_table_hdu, Summary_BPT_table_hdu, keys=('CUBEIDPUB', 'CATID', 'CUBEID'), join_type='left')\n",
    "\n",
    "\n",
    "\n",
    "\n",
    "\n",
    "# CROSS-MATCHING Columns\n",
    "\n",
    "    # Use previously constructed catalogue summary table functions\n",
    "\n",
    "# intialise a column of zeros for IS_RADIOSOURCE\n",
    "Summary_table_hdu.add_column(astropy.table.Column(np.zeros(len(Summary_table_hdu), dtype=int), name='IS_RADIOSOURCE', dtype=int))\n",
    "\n",
    "# iterate for every column\n",
    "for source_type in source_types:\n",
    "    #expand tuple of crossmatching_params\n",
    "    crossmatching_catalogue, max_sep_arcsec, position_colnames, cols_to_include = crossmatching_survey_parameters[source_type]\n",
    "\n",
    "    # initialise array of is_in \n",
    "\n",
    "    crossmatched_catalogue = all_fctns.get_all_SAMI_crossmatched_fits_table(Source_dir+\"Catalogues\\\\\", crossmatching_catalogue, max_sep_arcsec, position_colnames, save_file=False, only_closest=False, survey_cols_to_keep=cols_to_include, rerun_all_files=rerun_all_files)\n",
    "    print(len(crossmatched_catalogue))\n",
    "# IS_{source_type}SOURCE         \n",
    "    cube_is_crossmatched = np.isin(Summary_table_hdu['CATID'],crossmatched_catalogue['CATID'])*1    \n",
    "    print(f\"Number of {source_type} matches: {np.sum(cube_is_crossmatched)}\")\n",
    "\n",
    "    Summary_table_hdu.add_column(astropy.table.Column(cube_is_crossmatched, name=f'IS_{source_type.upper()}SOURCE', dtype=int))\n",
    "# add the columnss for each catalogue\n",
    "    Summary_table_hdu = join(Summary_table_hdu, crossmatched_catalogue[('CATID',)+ tuple(cols_to_include.keys())], join_type='left')\n",
    "    \n",
    "# Rename these columns\n",
    "    Summary_table_hdu.rename_columns(tuple(cols_to_include.keys()), tuple(cols_to_include.values()))\n",
    "\n",
    "# fix the IS_RADIOSOURCE column to be 1 if either RACS or LARGESS matched\n",
    "    if source_type in Radio_source_types:\n",
    "        Summary_table_hdu['IS_RADIOSOURCE'] = np.maximum(Summary_table_hdu['IS_RADIOSOURCE'], cube_is_crossmatched)\n",
    "\n",
    "\n",
    "# Add a HERG/LERG column for radio matches based on O_III_EW_table\n",
    "with fits.open(OIII_EW_filepath) as OIII_EW_hdul:\n",
    "    OIII_EW_table = Table(OIII_EW_hdul[1].data)\n",
    "    OIII_EW_table.sort('CATID')\n",
    "\n",
    "    # reduce to only those with radio matches\n",
    "OIII_EW_table = OIII_EW_table[np.isin(OIII_EW_table['CATID'], Summary_table_hdu['CATID'][Summary_table_hdu['IS_RADIOSOURCE']==1])]\n",
    "\n",
    "OIII_EW_lim = 5 # Angstroms\n",
    "OIII_SN_lim = 3 # signal to noise limit for O III line\n",
    "# initialise table of HERG/LERG values\n",
    "HERG_LERG_table = Table(names=('CATID', 'IS_HERG'), dtype=(int, int))\n",
    "\n",
    "for catid in OIII_EW_table['CATID']:\n",
    "    # get O III emission line flux\n",
    "    OIII_flux, OIII_error = all_fctns.get_flux_and_error_1_4_ARCSEC(SAMI_spectra_table_hdu, 'O III', catid=catid)\n",
    "    # print(len(SAMI_spectra_table_hdu[SAMI_spectra_table_hdu=='catid']))\n",
    "    # print(catid, OIII_flux, OIII_error)\n",
    "\n",
    "    # check if O III flux is above SN limit\n",
    "    OIII_SN = OIII_flux/OIII_error\n",
    "\n",
    "    if OIII_SN < OIII_SN_lim: # inconclusive if below SN limit\n",
    "        is_herg = -1\n",
    "    \n",
    "    else: # get O III EW value\n",
    "        OIII_EW = OIII_EW_table['O_III_EW_LineFit'][OIII_EW_table['CATID']==catid]\n",
    "        if OIII_EW >= OIII_EW_lim:\n",
    "            is_herg = 1 # is HERG\n",
    "        else:\n",
    "            is_herg = 0 # is LERG\n",
    "\n",
    "    HERG_LERG_table.add_row((catid, is_herg))\n",
    "\n",
    "# IS_HERG\n",
    "Summary_table_hdu = join(Summary_table_hdu, HERG_LERG_table, keys='CATID', join_type='left')\n",
    "\n",
    "\n",
    "\n",
    "    # add column for broadline AGN\n",
    "is_broadline_AGN = np.isin(Summary_table_hdu['CATID'], broadline_CATIDs)*1\n",
    "\n",
    "# IS_BROADLINE_AGN\n",
    "Summary_table_hdu.add_column(astropy.table.Column(is_broadline_AGN, name=f'IS_BROADLINE_AGN', dtype=int))\n",
    "\n",
    "\n",
    "# ------ EASE OF USE COLUMNS ------\n",
    "all_SAMI_Targets_table = all_fctns.get_all_SAMI_targets_catalogue(catalogue_filepath, save_file=False)\n",
    "\n",
    "# add a column for the stellar mass\n",
    "Summary_table_hdu = join(Summary_table_hdu, all_SAMI_Targets_table[('CATID', 'Mstar')], keys='CATID', join_type='left')\n",
    "                         \n",
    "# M_STAR\n",
    "Summary_table_hdu.rename_column('Mstar', 'M_STAR')\n",
    "\n",
    "# add a column for the best redshift\n",
    "z_spec_table = all_fctns.get_z_best(catalogue_filepath, Summary_table_hdu['CATID'])\n",
    "\n",
    "# Z_SPEC\n",
    "Summary_table_hdu = join(Summary_table_hdu, z_spec_table, keys='CATID', join_type='left')\n",
    "\n",
    "# add a column for the region which is already in the ALL_SAMI_Targets catalogue\n",
    "reduced_all_SAMI_Targets_table = all_SAMI_Targets_table.copy()\n",
    "reduced_all_SAMI_Targets_table.keep_columns(('CATID', 'SAMI_REGION'))\n",
    "Summary_table_hdu = join(Summary_table_hdu, reduced_all_SAMI_Targets_table, keys='CATID', join_type='left')\n",
    "\n",
    "# add a column for the SFR (from the SAMI SFR catalogue)\n",
    "\n",
    "with fits.open(catalogue_filepath + SAMI_SFR_catalogue) as SAMI_SFR_hdul:\n",
    "    SAMI_SFR_table = Table(SAMI_SFR_hdul[1].data)\n",
    "\n",
    "CATID_SFR_table = all_fctns.get_SAMI_SFRs(Summary_table_hdu, SAMI_SFR_table)\n",
    "Summary_table_hdu = join(Summary_table_hdu, CATID_SFR_table, join_type='left')\n",
    "\n",
    "\n",
    "# SFR_SAMI\n",
    "Summary_table_hdu.rename_column('SFR_best', 'SFR_SAMI')\n",
    "# SFR_SAMI_FLAG\n",
    "Summary_table_hdu.rename_column('SFR_best_flag', 'SFR_SAMI_FLAG')\n",
    "\n",
    "\n",
    "\n",
    "save_file = True\n",
    "overwrite = True\n",
    "if save_file:\n",
    "    Summary_table_filename = f\"SAMI_AGN_matches.fits\"\n",
    "\n",
    "    Summary_table_filepath = catalogue_filepath+\"Crossmatched\\\\\"+Summary_table_filename\n",
    "    Summary_table_hdu.write(Summary_table_filepath, overwrite=overwrite)\n",
    "    print(f\"Summary Table Saved to: {Summary_table_filepath}\")\n",
    "\n",
    "    git_summary_table_filepath = Source_dir+\"sami_tools_smc_mspa4681\\\\shared_catalogues\\\\\"\n",
    "    Summary_table_hdu.write(git_summary_table_filepath+Summary_table_filename, overwrite=overwrite)\n",
    "    print(f\"Summary Table Saved to: {git_summary_table_filepath+Summary_table_filename}\")\n",
    "\n",
    "Summary_table_hdu"
   ]
  },
  {
   "cell_type": "code",
   "execution_count": 87,
   "id": "d782e3c4",
   "metadata": {},
   "outputs": [
    {
     "name": "stdout",
     "output_type": "stream",
     "text": [
      "Number of SAMI galaxies in summary table: 3068\n",
      "Number of radio sources in summary table: 299\n",
      "Number of radio sources with HERG/LERG classification: 299\n",
      "num of HERGs: 60\n",
      "num of LERGs: 207\n",
      "num of inconclusive: 32\n",
      "['GAMA', 'Clusters', 'Filler']\n",
      "[np.int64(97), np.int64(10), np.int64(0)]\n",
      "[np.int64(151), np.int64(46), np.int64(0)]\n",
      "[np.int64(242), np.int64(53), np.int64(4)]\n"
     ]
    },
    {
     "data": {
      "text/plain": [
       "np.int64(286)"
      ]
     },
     "execution_count": 87,
     "metadata": {},
     "output_type": "execute_result"
    }
   ],
   "source": [
    "refresh_module()\n",
    "print(\"Number of SAMI galaxies in summary table:\", len(Summary_table_hdu))\n",
    "print(\"Number of radio sources in summary table:\", np.sum(Summary_table_hdu['IS_RADIOSOURCE']==1))\n",
    "\n",
    "print(\"Number of radio sources with HERG/LERG classification:\", len(OIII_EW_table))\n",
    "print(\"num of HERGs:\", np.sum(HERG_LERG_table['IS_HERG']==1))\n",
    "print(\"num of LERGs:\", np.sum(HERG_LERG_table['IS_HERG']==0))\n",
    "print(\"num of inconclusive:\", np.sum(HERG_LERG_table['IS_HERG']==-1))\n",
    "\n",
    "print([region for region in SAMI_regions.values()])\n",
    "print([np.sum(Summary_table_hdu['IS_LARGESSSOURCE'] & (Summary_table_hdu['SAMI_REGION'] == region)) for region in SAMI_regions.values()])\n",
    "print([np.sum(Summary_table_hdu['IS_RACSSOURCE'] & (Summary_table_hdu['SAMI_REGION'] == region)) for region in SAMI_regions.values()])\n",
    "\n",
    "\n",
    "print([np.sum(Summary_table_hdu['IS_RADIOSOURCE'] & (Summary_table_hdu['SAMI_REGION'] == region)) for region in SAMI_regions.values()])\n",
    "\n",
    "Summary_table_hdu[Summary_table_hdu['IS_RADIOSOURCE']==1 & ~ np.isin(Summary_table_hdu['SAMI_REGION'], SAMI_regions.values())]\n",
    "Summary_table_hdu[(Summary_table_hdu['IS_RADIOSOURCE']==1) & ~ (Summary_table_hdu['SAMI_REGION']== 'GAMA') & ~ (Summary_table_hdu['SAMI_REGION']== 'Clusters') & ~ (Summary_table_hdu['SAMI_REGION']== 'Filler')]\n",
    "np.sum([SAMI_CubeObs_table_hdu['WARNSTAR']==1])"
   ]
  },
  {
   "cell_type": "code",
   "execution_count": 15,
   "id": "0f575587",
   "metadata": {},
   "outputs": [
    {
     "data": {
      "text/html": [
       "<div><i>Table length=1</i>\n",
       "<table id=\"table2374202600928\" class=\"table-striped table-bordered table-condensed\">\n",
       "<thead><tr><th>CUBEIDPUB</th><th>CUBEID</th><th>CATID</th><th>IS_BPT_AGN</th><th>CATEGORY_BPT_AGN</th><th>IS_OTHER_BPT_AGN</th><th>WARN_BPT_SN</th><th>WARN_AGN_OTHER_BPT</th><th>WARN_AGN_TYPE_OTHER_BPT</th><th>IS_RADIOSOURCE</th><th>RACS_MATCHED_ID</th><th>RACS_TOTALFLUX</th><th>RACS_TOTALFLUX_ERR</th><th>RACS_SOURCE_CLASSIFICATION</th><th>IS_XRAYSOURCE</th><th>eROSITA_MATCHED_ID</th><th>eROSITA_TOTALFLUX_1</th><th>eROSITA_TOTALFLUX_1_ERR</th><th>eROSITA_TOTALFLUX_2</th><th>eROSITA_TOTALFLUX_2_ERR</th><th>eROSITA_TOTALFLUX_3</th><th>eROSITA_TOTALFLUX_3_ERR</th><th>IS_LARGESSSOURCE</th><th>LARGESS_MATCHED_ID</th><th>LARGESS_imod</th><th>LARGESS_e_imod</th><th>N_FIRST</th><th>FIRST_TOTALFLUX</th><th>N_NVSS</th><th>NVSS_TOTALFLUX</th><th>IS_BROADLINE_AGN</th><th>M_STAR</th><th>Z_SPEC</th><th>SFR_SAMI</th><th>SFR_SAMI_FLAG</th></tr></thead>\n",
       "<thead><tr><th>str16</th><th>str80</th><th>int64</th><th>int64</th><th>int64</th><th>int64</th><th>int64</th><th>int64</th><th>int64</th><th>int64</th><th>str17</th><th>float64</th><th>float64</th><th>str1</th><th>int64</th><th>str23</th><th>float32</th><th>float32</th><th>float32</th><th>float32</th><th>float32</th><th>float32</th><th>int64</th><th>str19</th><th>float64</th><th>float64</th><th>int64</th><th>float64</th><th>int64</th><th>float64</th><th>int64</th><th>float32</th><th>float64</th><th>float64</th><th>float64</th></tr></thead>\n",
       "<tr><td>9011900430_A</td><td>9011900430_7_Y15SBR2_P006_A0119T035_2016_09_28-2016_10_04</td><td>9011900430</td><td>1</td><td>6</td><td>1</td><td>0</td><td>0</td><td>1</td><td>1</td><td>RACS_0104+00_2817</td><td>5618.47763012387</td><td>337.40456003808833</td><td>M</td><td>0</td><td>--</td><td>--</td><td>--</td><td>--</td><td>--</td><td>--</td><td>--</td><td>0</td><td>--</td><td>--</td><td>--</td><td>--</td><td>--</td><td>--</td><td>--</td><td>1</td><td>11.389562</td><td>0.0451924093067646</td><td>nan</td><td>nan</td></tr>\n",
       "</table></div>"
      ],
      "text/plain": [
       "<Table length=1>\n",
       " CUBEIDPUB   ... SFR_SAMI_FLAG\n",
       "   str16     ...    float64   \n",
       "------------ ... -------------\n",
       "9011900430_A ...           nan"
      ]
     },
     "execution_count": 15,
     "metadata": {},
     "output_type": "execute_result"
    }
   ],
   "source": [
    "test = Summary_table_hdu[Summary_table_hdu['IS_RADIOSOURCE']==1]\n",
    "test[test['CATID']==9011900430]"
   ]
  },
  {
   "cell_type": "code",
   "execution_count": 5,
   "id": "44a23440",
   "metadata": {},
   "outputs": [
    {
     "name": "stdout",
     "output_type": "stream",
     "text": [
      "--\n"
     ]
    },
    {
     "data": {
      "text/html": [
       "<div><i>Table length=178</i>\n",
       "<table id=\"table2374170384560\" class=\"table-striped table-bordered table-condensed\">\n",
       "<thead><tr><th>CUBEIDPUB</th><th>CUBEID</th><th>CATID</th><th>IS_BPT_AGN</th><th>CATEGORY_BPT_AGN</th><th>IS_OTHER_BPT_AGN</th><th>WARN_BPT_SN</th><th>WARN_AGN_OTHER_BPT</th><th>WARN_AGN_TYPE_OTHER_BPT</th><th>IS_RADIOSOURCE</th><th>RACS_MATCHED_ID</th><th>RACS_TOTALFLUX</th><th>RACS_TOTALFLUX_ERR</th><th>RACS_SOURCE_CLASSIFICATION</th><th>IS_XRAYSOURCE</th><th>eROSITA_MATCHED_ID</th><th>eROSITA_TOTALFLUX_1</th><th>eROSITA_TOTALFLUX_1_ERR</th><th>eROSITA_TOTALFLUX_2</th><th>eROSITA_TOTALFLUX_2_ERR</th><th>eROSITA_TOTALFLUX_3</th><th>eROSITA_TOTALFLUX_3_ERR</th><th>IS_LARGESSSOURCE</th><th>LARGESS_MATCHED_ID</th><th>LARGESS_imod</th><th>LARGESS_e_imod</th><th>N_FIRST</th><th>FIRST_TOTALFLUX</th><th>N_NVSS</th><th>NVSS_TOTALFLUX</th><th>IS_BROADLINE_AGN</th><th>M_STAR</th><th>Z_SPEC</th><th>SFR_SAMI</th><th>SFR_SAMI_FLAG</th></tr></thead>\n",
       "<thead><tr><th>str16</th><th>str80</th><th>int64</th><th>int64</th><th>int64</th><th>int64</th><th>int64</th><th>int64</th><th>int64</th><th>int64</th><th>str17</th><th>float64</th><th>float64</th><th>str1</th><th>int64</th><th>str23</th><th>float32</th><th>float32</th><th>float32</th><th>float32</th><th>float32</th><th>float32</th><th>int64</th><th>str19</th><th>float64</th><th>float64</th><th>int64</th><th>float64</th><th>int64</th><th>float64</th><th>int64</th><th>float32</th><th>float64</th><th>float64</th><th>float64</th></tr></thead>\n",
       "<tr><td>99513_A</td><td>99513_7_Y15SAR3_P006_12T097_2017_04_19-2017_05_01</td><td>99513</td><td>--</td><td>--</td><td>--</td><td>--</td><td>--</td><td>--</td><td>0</td><td>--</td><td>--</td><td>--</td><td>--</td><td>0</td><td>--</td><td>--</td><td>--</td><td>--</td><td>--</td><td>--</td><td>--</td><td>0</td><td>--</td><td>--</td><td>--</td><td>--</td><td>--</td><td>--</td><td>--</td><td>0</td><td>8.42</td><td>0.021530000492930412</td><td>-1.408317252899234</td><td>1.0</td></tr>\n",
       "<tr><td>10000001_A</td><td>10000001_7_Y14SAR2_P007_09T074_2017_02_27-2017_03_05</td><td>10000001</td><td>--</td><td>--</td><td>--</td><td>--</td><td>--</td><td>--</td><td>0</td><td>--</td><td>--</td><td>--</td><td>--</td><td>0</td><td>--</td><td>--</td><td>--</td><td>--</td><td>--</td><td>--</td><td>--</td><td>0</td><td>--</td><td>--</td><td>--</td><td>--</td><td>--</td><td>--</td><td>--</td><td>0</td><td>--</td><td>nan</td><td>--</td><td>--</td></tr>\n",
       "<tr><td>10000002_A</td><td>10000002_7_Y14SAR1_P005_09T065_2015_02_16-2015_02_25</td><td>10000002</td><td>--</td><td>--</td><td>--</td><td>--</td><td>--</td><td>--</td><td>0</td><td>--</td><td>--</td><td>--</td><td>--</td><td>0</td><td>--</td><td>--</td><td>--</td><td>--</td><td>--</td><td>--</td><td>--</td><td>0</td><td>--</td><td>--</td><td>--</td><td>--</td><td>--</td><td>--</td><td>--</td><td>0</td><td>--</td><td>nan</td><td>--</td><td>--</td></tr>\n",
       "<tr><td>10000004_A</td><td>10000004_7_Y15SAR1_P001_09T097_2016_03_03-2016_03_13</td><td>10000004</td><td>--</td><td>--</td><td>--</td><td>--</td><td>--</td><td>--</td><td>0</td><td>--</td><td>--</td><td>--</td><td>--</td><td>0</td><td>--</td><td>--</td><td>--</td><td>--</td><td>--</td><td>--</td><td>--</td><td>0</td><td>--</td><td>--</td><td>--</td><td>--</td><td>--</td><td>--</td><td>--</td><td>0</td><td>--</td><td>nan</td><td>--</td><td>--</td></tr>\n",
       "<tr><td>10000010_A</td><td>10000010_7_Y16SAR2_P003_09T122_2017_03_24-2017_04_02</td><td>10000010</td><td>--</td><td>--</td><td>--</td><td>--</td><td>--</td><td>--</td><td>0</td><td>--</td><td>--</td><td>--</td><td>--</td><td>0</td><td>--</td><td>--</td><td>--</td><td>--</td><td>--</td><td>--</td><td>--</td><td>0</td><td>--</td><td>--</td><td>--</td><td>--</td><td>--</td><td>--</td><td>--</td><td>0</td><td>--</td><td>nan</td><td>--</td><td>--</td></tr>\n",
       "<tr><td>10000014_A</td><td>10000014_11_Y13SAR1_P004_09T018_2013_03_05-2013_03_17</td><td>10000014</td><td>--</td><td>--</td><td>--</td><td>--</td><td>--</td><td>--</td><td>0</td><td>--</td><td>--</td><td>--</td><td>--</td><td>0</td><td>--</td><td>--</td><td>--</td><td>--</td><td>--</td><td>--</td><td>--</td><td>0</td><td>--</td><td>--</td><td>--</td><td>--</td><td>--</td><td>--</td><td>--</td><td>0</td><td>--</td><td>nan</td><td>--</td><td>--</td></tr>\n",
       "<tr><td>10000016_B</td><td>10000016_7_Y16SAR2_P002_09T117_2016_03_03-2016_03_13</td><td>10000016</td><td>--</td><td>--</td><td>--</td><td>--</td><td>--</td><td>--</td><td>0</td><td>--</td><td>--</td><td>--</td><td>--</td><td>0</td><td>--</td><td>--</td><td>--</td><td>--</td><td>--</td><td>--</td><td>--</td><td>0</td><td>--</td><td>--</td><td>--</td><td>--</td><td>--</td><td>--</td><td>--</td><td>0</td><td>--</td><td>nan</td><td>--</td><td>--</td></tr>\n",
       "<tr><td>10000017_A</td><td>10000017_6_Y14SAR2_P004_09T071_2014_04_02-2014_04_06</td><td>10000017</td><td>--</td><td>--</td><td>--</td><td>--</td><td>--</td><td>--</td><td>0</td><td>--</td><td>--</td><td>--</td><td>--</td><td>0</td><td>--</td><td>--</td><td>--</td><td>--</td><td>--</td><td>--</td><td>--</td><td>0</td><td>--</td><td>--</td><td>--</td><td>--</td><td>--</td><td>--</td><td>--</td><td>0</td><td>--</td><td>nan</td><td>--</td><td>--</td></tr>\n",
       "<tr><td>10000021_A</td><td>10000021_7_Y15SAR2_P002_09T110_2016_02_08-2016_02_14</td><td>10000021</td><td>--</td><td>--</td><td>--</td><td>--</td><td>--</td><td>--</td><td>0</td><td>--</td><td>--</td><td>--</td><td>--</td><td>0</td><td>--</td><td>--</td><td>--</td><td>--</td><td>--</td><td>--</td><td>--</td><td>0</td><td>--</td><td>--</td><td>--</td><td>--</td><td>--</td><td>--</td><td>--</td><td>0</td><td>--</td><td>nan</td><td>--</td><td>--</td></tr>\n",
       "<tr><td>...</td><td>...</td><td>...</td><td>...</td><td>...</td><td>...</td><td>...</td><td>...</td><td>...</td><td>...</td><td>...</td><td>...</td><td>...</td><td>...</td><td>...</td><td>...</td><td>...</td><td>...</td><td>...</td><td>...</td><td>...</td><td>...</td><td>...</td><td>...</td><td>...</td><td>...</td><td>...</td><td>...</td><td>...</td><td>...</td><td>...</td><td>...</td><td>...</td><td>...</td><td>...</td></tr>\n",
       "<tr><td>999091700201_A</td><td>999091700201_7_Y14SAR5_P001_A0917T011_2014_07_17-2014_07_21</td><td>999091700201</td><td>--</td><td>--</td><td>--</td><td>--</td><td>--</td><td>--</td><td>0</td><td>--</td><td>--</td><td>--</td><td>--</td><td>0</td><td>--</td><td>--</td><td>--</td><td>--</td><td>--</td><td>--</td><td>--</td><td>0</td><td>--</td><td>--</td><td>--</td><td>--</td><td>--</td><td>--</td><td>--</td><td>0</td><td>--</td><td>nan</td><td>--</td><td>--</td></tr>\n",
       "<tr><td>999091700397_A</td><td>999091700397_8_Y16SBR1_P001_AP0917T033_2016_09_28-2016_10_04</td><td>999091700397</td><td>--</td><td>--</td><td>--</td><td>--</td><td>--</td><td>--</td><td>0</td><td>--</td><td>--</td><td>--</td><td>--</td><td>0</td><td>--</td><td>--</td><td>--</td><td>--</td><td>--</td><td>--</td><td>--</td><td>0</td><td>--</td><td>--</td><td>--</td><td>--</td><td>--</td><td>--</td><td>--</td><td>0</td><td>--</td><td>nan</td><td>--</td><td>--</td></tr>\n",
       "<tr><td>999388000026_A</td><td>999388000026_7_Y17SAR3_P013_A3880T034_2017_04_19-2017_05_01</td><td>999388000026</td><td>--</td><td>--</td><td>--</td><td>--</td><td>--</td><td>--</td><td>0</td><td>--</td><td>--</td><td>--</td><td>--</td><td>0</td><td>--</td><td>--</td><td>--</td><td>--</td><td>--</td><td>--</td><td>--</td><td>0</td><td>--</td><td>--</td><td>--</td><td>--</td><td>--</td><td>--</td><td>--</td><td>0</td><td>--</td><td>nan</td><td>--</td><td>--</td></tr>\n",
       "<tr><td>999388000109_C</td><td>999388000109_13_Y15SBR1_P001_A3880T025_2015_08_12-2015_08_17</td><td>999388000109</td><td>--</td><td>--</td><td>--</td><td>--</td><td>--</td><td>--</td><td>0</td><td>--</td><td>--</td><td>--</td><td>--</td><td>0</td><td>--</td><td>--</td><td>--</td><td>--</td><td>--</td><td>--</td><td>--</td><td>0</td><td>--</td><td>--</td><td>--</td><td>--</td><td>--</td><td>--</td><td>--</td><td>0</td><td>--</td><td>nan</td><td>--</td><td>--</td></tr>\n",
       "<tr><td>999388000261_B</td><td>999388000261_7_Y17SAR3_P014_A3880T035_2017_09_14-2017_09_26</td><td>999388000261</td><td>--</td><td>--</td><td>--</td><td>--</td><td>--</td><td>--</td><td>0</td><td>--</td><td>--</td><td>--</td><td>--</td><td>0</td><td>--</td><td>--</td><td>--</td><td>--</td><td>--</td><td>--</td><td>--</td><td>0</td><td>--</td><td>--</td><td>--</td><td>--</td><td>--</td><td>--</td><td>--</td><td>0</td><td>--</td><td>nan</td><td>--</td><td>--</td></tr>\n",
       "<tr><td>999388000262_A</td><td>999388000262_7_Y13SBR1_P002_A3880T002_2013_08_30-2013_09_04</td><td>999388000262</td><td>--</td><td>--</td><td>--</td><td>--</td><td>--</td><td>--</td><td>0</td><td>--</td><td>--</td><td>--</td><td>--</td><td>0</td><td>--</td><td>--</td><td>--</td><td>--</td><td>--</td><td>--</td><td>--</td><td>0</td><td>--</td><td>--</td><td>--</td><td>--</td><td>--</td><td>--</td><td>--</td><td>0</td><td>--</td><td>nan</td><td>--</td><td>--</td></tr>\n",
       "<tr><td>999403800283_C</td><td>999403800283_7_Y15SBR1_P003_A4038T026_2015_08_12-2015_08_17</td><td>999403800283</td><td>--</td><td>--</td><td>--</td><td>--</td><td>--</td><td>--</td><td>0</td><td>--</td><td>--</td><td>--</td><td>--</td><td>0</td><td>--</td><td>--</td><td>--</td><td>--</td><td>--</td><td>--</td><td>--</td><td>0</td><td>--</td><td>--</td><td>--</td><td>--</td><td>--</td><td>--</td><td>--</td><td>0</td><td>--</td><td>nan</td><td>--</td><td>--</td></tr>\n",
       "<tr><td>999403800596_A</td><td>999403800596_7_Y13SBR2_P006_A4038T004_2013_10_02-2013_10_08</td><td>999403800596</td><td>--</td><td>--</td><td>--</td><td>--</td><td>--</td><td>--</td><td>0</td><td>--</td><td>--</td><td>--</td><td>--</td><td>0</td><td>--</td><td>--</td><td>--</td><td>--</td><td>--</td><td>--</td><td>--</td><td>0</td><td>--</td><td>--</td><td>--</td><td>--</td><td>--</td><td>--</td><td>--</td><td>0</td><td>--</td><td>nan</td><td>--</td><td>--</td></tr>\n",
       "<tr><td>999403800642_C</td><td>999403800642_7_Y16SBR2_P001_A4038T032_2016_09_28-2016_10_04</td><td>999403800642</td><td>--</td><td>--</td><td>--</td><td>--</td><td>--</td><td>--</td><td>0</td><td>--</td><td>--</td><td>--</td><td>--</td><td>0</td><td>--</td><td>--</td><td>--</td><td>--</td><td>--</td><td>--</td><td>--</td><td>0</td><td>--</td><td>--</td><td>--</td><td>--</td><td>--</td><td>--</td><td>--</td><td>0</td><td>--</td><td>nan</td><td>--</td><td>--</td></tr>\n",
       "<tr><td>999403800795_A</td><td>999403800795_7_Y15SBR1_P005_A4038T027_2015_09_07-2015_09_13</td><td>999403800795</td><td>--</td><td>--</td><td>--</td><td>--</td><td>--</td><td>--</td><td>0</td><td>--</td><td>--</td><td>--</td><td>--</td><td>0</td><td>--</td><td>--</td><td>--</td><td>--</td><td>--</td><td>--</td><td>--</td><td>0</td><td>--</td><td>--</td><td>--</td><td>--</td><td>--</td><td>--</td><td>--</td><td>0</td><td>--</td><td>nan</td><td>--</td><td>--</td></tr>\n",
       "</table></div>"
      ],
      "text/plain": [
       "<Table length=178>\n",
       "  CUBEIDPUB    ... SFR_SAMI_FLAG\n",
       "    str16      ...    float64   \n",
       "-------------- ... -------------\n",
       "       99513_A ...           1.0\n",
       "    10000001_A ...            --\n",
       "    10000002_A ...            --\n",
       "    10000004_A ...            --\n",
       "    10000010_A ...            --\n",
       "    10000014_A ...            --\n",
       "    10000016_B ...            --\n",
       "    10000017_A ...            --\n",
       "    10000021_A ...            --\n",
       "           ... ...           ...\n",
       "999091700201_A ...            --\n",
       "999091700397_A ...            --\n",
       "999388000026_A ...            --\n",
       "999388000109_C ...            --\n",
       "999388000261_B ...            --\n",
       "999388000262_A ...            --\n",
       "999403800283_C ...            --\n",
       "999403800596_A ...            --\n",
       "999403800642_C ...            --\n",
       "999403800795_A ...            --"
      ]
     },
     "execution_count": 5,
     "metadata": {},
     "output_type": "execute_result"
    }
   ],
   "source": [
    "unique= np.unique(Summary_table_hdu['CATEGORY_BPT_AGN'])\n",
    "print(unique[-1])\n",
    "\n",
    "Summary_table_hdu[Summary_table_hdu['CATEGORY_BPT_AGN'] == unique[-1]]"
   ]
  },
  {
   "cell_type": "code",
   "execution_count": 6,
   "id": "c96b8b2b",
   "metadata": {},
   "outputs": [
    {
     "data": {
      "text/html": [
       "<div><i>Table length=3245</i>\n",
       "<table id=\"table2374191050208\" class=\"table-striped table-bordered table-condensed\">\n",
       "<thead><tr><th>CATID</th><th>SFR_best</th><th>SFR_best_flag</th></tr></thead>\n",
       "<thead><tr><th>int64</th><th>float64</th><th>float64</th></tr></thead>\n",
       "<tr><td>6821</td><td>-0.8337829957020938</td><td>2.0</td></tr>\n",
       "<tr><td>6837</td><td>-0.10811913977560492</td><td>1.0</td></tr>\n",
       "<tr><td>7139</td><td>-1.4812175131637677</td><td>0.0</td></tr>\n",
       "<tr><td>7206</td><td>0.5071057664992104</td><td>0.0</td></tr>\n",
       "<tr><td>7289</td><td>-0.42963751393666283</td><td>0.0</td></tr>\n",
       "<tr><td>7715</td><td>-0.9876825301304426</td><td>0.0</td></tr>\n",
       "<tr><td>7839</td><td>-0.9330332098451861</td><td>1.0</td></tr>\n",
       "<tr><td>7841</td><td>-1.3503192190613338</td><td>0.0</td></tr>\n",
       "<tr><td>7946</td><td>0.07435618623620215</td><td>0.0</td></tr>\n",
       "<tr><td>...</td><td>...</td><td>...</td></tr>\n",
       "<tr><td>999091700201</td><td>--</td><td>--</td></tr>\n",
       "<tr><td>999091700397</td><td>--</td><td>--</td></tr>\n",
       "<tr><td>999388000026</td><td>--</td><td>--</td></tr>\n",
       "<tr><td>999388000109</td><td>--</td><td>--</td></tr>\n",
       "<tr><td>999388000261</td><td>--</td><td>--</td></tr>\n",
       "<tr><td>999388000262</td><td>--</td><td>--</td></tr>\n",
       "<tr><td>999403800283</td><td>--</td><td>--</td></tr>\n",
       "<tr><td>999403800596</td><td>--</td><td>--</td></tr>\n",
       "<tr><td>999403800642</td><td>--</td><td>--</td></tr>\n",
       "<tr><td>999403800795</td><td>--</td><td>--</td></tr>\n",
       "</table></div>"
      ],
      "text/plain": [
       "<Table length=3245>\n",
       "   CATID           SFR_best       SFR_best_flag\n",
       "   int64           float64           float64   \n",
       "------------ -------------------- -------------\n",
       "        6821  -0.8337829957020938           2.0\n",
       "        6837 -0.10811913977560492           1.0\n",
       "        7139  -1.4812175131637677           0.0\n",
       "        7206   0.5071057664992104           0.0\n",
       "        7289 -0.42963751393666283           0.0\n",
       "        7715  -0.9876825301304426           0.0\n",
       "        7839  -0.9330332098451861           1.0\n",
       "        7841  -1.3503192190613338           0.0\n",
       "        7946  0.07435618623620215           0.0\n",
       "         ...                  ...           ...\n",
       "999091700201                   --            --\n",
       "999091700397                   --            --\n",
       "999388000026                   --            --\n",
       "999388000109                   --            --\n",
       "999388000261                   --            --\n",
       "999388000262                   --            --\n",
       "999403800283                   --            --\n",
       "999403800596                   --            --\n",
       "999403800642                   --            --\n",
       "999403800795                   --            --"
      ]
     },
     "execution_count": 6,
     "metadata": {},
     "output_type": "execute_result"
    }
   ],
   "source": [
    "refresh_module()\n",
    "\n",
    "\n",
    "\n",
    "\n",
    "with fits.open(Source_dir +\"Catalogues\\\\\" + SAMI_SFR_catalogue) as SAMI_SFR_hdul:\n",
    "    SAMI_SFR_table = Table(SAMI_SFR_hdul[1].data)\n",
    "\n",
    "SFR_array = get_SAMI_SFRs(Summary_table_hdu, SAMI_SFR_table)\n",
    "SFR_array\n",
    "\n"
   ]
  },
  {
   "cell_type": "code",
   "execution_count": 7,
   "id": "d73cfbb8",
   "metadata": {},
   "outputs": [
    {
     "data": {
      "text/plain": [
       "('CATID', 'Name', 'imod', 'e_imod', 'NFIRST', 'FFIRST', 'NNVSS', 'FNVSS')"
      ]
     },
     "execution_count": 7,
     "metadata": {},
     "output_type": "execute_result"
    }
   ],
   "source": [
    "('CATID',)+ tuple(cols_to_include.keys())"
   ]
  },
  {
   "cell_type": "code",
   "execution_count": 8,
   "id": "927559e9",
   "metadata": {},
   "outputs": [
    {
     "data": {
      "text/plain": [
       "Text(0.5, 1.0, 'RACS Total Flux values')"
      ]
     },
     "execution_count": 8,
     "metadata": {},
     "output_type": "execute_result"
    },
    {
     "data": {
      "image/png": "[encoded data removed]",
      "text/plain": [
       "<Figure size 640x480 with 1 Axes>"
      ]
     },
     "metadata": {},
     "output_type": "display_data"
    }
   ],
   "source": [
    "plt.hist(np.log10(Summary_table_hdu['RACS_TOTALFLUX']), bins=50, log=True)\n",
    "plt.xlabel('log(Flux_RACS)')\n",
    "plt.ylabel('Count')\n",
    "plt.title('RACS Total Flux values')"
   ]
  },
  {
   "cell_type": "markdown",
   "id": "70bd3cf2",
   "metadata": {},
   "source": [
    "### LARGESS v RACS flux"
   ]
  },
  {
   "cell_type": "code",
   "execution_count": 9,
   "id": "421f12cc",
   "metadata": {},
   "outputs": [
    {
     "data": {
      "text/plain": [
       "Text(0.5, 1.0, 'RACS v FIRST flux values')"
      ]
     },
     "execution_count": 9,
     "metadata": {},
     "output_type": "execute_result"
    },
    {
     "data": {
      "image/png": "[encoded data removed]",
      "text/plain": [
       "<Figure size 640x480 with 1 Axes>"
      ]
     },
     "metadata": {},
     "output_type": "display_data"
    }
   ],
   "source": [
    "plt.loglog(Summary_table_hdu['FIRST_TOTALFLUX'], Summary_table_hdu['RACS_TOTALFLUX'], '.')\n",
    "\n",
    "plt.xlabel('FIRST Flux (mJy)')\n",
    "plt.ylabel('RACS Flux (mJy)')\n",
    "\n",
    "xlims = plt.xlim()\n",
    "ylims = plt.ylim()\n",
    "plt.plot(xlims, xlims, 'k--')\n",
    "plt.title('RACS v FIRST flux values')"
   ]
  },
  {
   "cell_type": "code",
   "execution_count": 10,
   "id": "6aebf397",
   "metadata": {},
   "outputs": [],
   "source": [
    "save_file = False\n",
    "if save_file:\n",
    "    Summary_table_filename = f\"SAMI_AGN_matches.fits\"\n",
    "\n",
    "    Summary_table_filepath = catalogue_filepath+\"Crossmatched\\\\\"+Summary_table_filename\n",
    "    Summary_table_hdu.write(Summary_table_filepath)\n",
    "    print(f\"Summary Table Saved to: {Summary_table_filepath}\")\n",
    "\n"
   ]
  },
  {
   "cell_type": "markdown",
   "id": "8c8061f0",
   "metadata": {},
   "source": [
    "## OLD CODE:"
   ]
  },
  {
   "cell_type": "code",
   "execution_count": 11,
   "id": "3a5c0f6d",
   "metadata": {},
   "outputs": [],
   "source": [
    "# #required strings and tables: \n",
    "# catalogue_filepath = Source_dir+\"Catalogues\\\\\"\n",
    "# SAMI_spectra_catalogue = \"EmissionLine1compDR3.fits\"\n",
    "\n",
    "# diagnostic_diagrams = ( ('BPT', 'N II'), ('BPT', 'S II'), ('BPT', 'O I'))\n",
    "\n",
    "# source_types = ('Radio', 'XRay', 'LARGESS')\n",
    "\n",
    "# Radio_catalogues = (\"RACS-mid1_sources.fits\", )\n",
    "# LARGESS_catalogues = (\"LARGESS.fits\",)\n",
    "# Xray_catalogues = ( \"eRASS1_Main.v1.1.fits\", )\n",
    "\n",
    "# # format is Survey_type: (catalogue_filenames, max_sep_arcsec, position_colnames, catalogue_ID_col, flux_cols)\n",
    "# crossmatching_survey_parameters = {'Radio':     ( Radio_catalogues,     5, ('RA', 'Dec'),       'Source_ID',    ('Total_flux', 'E_Total_flux') ), \n",
    "#                                    'LARGESS':   ( LARGESS_catalogues,   2, ('RAdeg', 'DEdeg'),  'Name',         ('imod', 'e_imod') ), \n",
    "#                                    'XRay':      ( Xray_catalogues,     15, (\"RA\", \"DEC\"),       'IAUNAME',      ('ML_FLUX_1', 'ML_FLUX_ERR_1')  )   }\n",
    "\n",
    "\n",
    "# #variables\n",
    "# SN_lim = 5 # signal noise limit for bpt diagrams\n",
    "# save_file= True  \n",
    "\n",
    "\n",
    "# #Initialise table with first 3 columns: 'CUBEID', 'CUBEIDPUB', 'CATID'\n",
    "\n",
    "# with fits.open(catalogue_filepath+SAMI_spectra_catalogue) as SAMI_spectra_hdul:\n",
    "#     SAMI_spectra_table_hdu =  Table(SAMI_spectra_hdul[1].data)\n",
    "#     SAMI_spectra_table_hdu.sort('CATID')\n",
    "\n",
    "\n",
    "# Summary_table_hdu = SAMI_spectra_table_hdu.copy()\n",
    "# Summary_table_hdu.keep_columns(('CUBEID', 'CUBEIDPUB', 'CATID'))\n",
    "\n",
    "# Summary_table_len = len(Summary_table_hdu)\n",
    "\n",
    "\n",
    "\n",
    "\n",
    "# # BPT AGN columns: \n",
    "\n",
    "# '''\n",
    "# IS_BPT_AGN - Flag to indicate 1.4 arcsec aperture emission data is located within the AGN region in a O[III]/[H\\beta] v [NII]/[H\\alpha] BPT diagram as defined in (Kewley, 2001)\n",
    "# CATEGORY_BPT_AGN - Region galaxies 1.4 arcsec aperture emission data is located in on O[III]/[H\\beta] v [NII]/[H\\alpha] BPT diagram. Integer value is based on region in BPT:\n",
    "# \t\t\t\t\t\t\t\t\t0 - Star-forming\n",
    "# \t\t\t\t\t\t\t\t\t1 - located on Star-forming / Composite region boundary\n",
    "# \t\t\t\t\t\t\t\t\t2 - Composite\n",
    "# \t\t\t\t\t\t\t\t\t3 - located on Composite / AGN region boundary\n",
    "# \t\t\t\t\t\t\t\t\t4 - LINER\n",
    "# \t\t\t\t\t\t\t\t\t5 - Seyfert\n",
    "# \t\t\t\t\t\t\t\t\t6 - located on LINER / Seyfert boundary                     \n",
    "# IS_POSSIBLE_BPT_AGN - Flag to indicate 1.4 arcsec aperture emission data is located within AGN region in either [SII] or [OI] BPT diagrams as defined in (Kewley, 2001)\n",
    "# WARN_BPT_SN\t- Flag to indicate high-S/N (>5) of 1.4 arcsec aperture emission data used in O[III]/[H\\beta] v [NII]/[H\\alpha] BPT plot\n",
    "# WARN_AGN_OTHER_BPT - Flag to indicate galaxy emission data is not located in AGN region in [SII]/[H\\alpha] or [OI]/[H\\alpha] BPT plots defined in (Kewley, 2001) \n",
    "# WARN_AGN_TYPE_OTHER_BPT - Flag to indicate galaxy emission data is not located in the same AGN type region in [SII]/[H\\alpha] or [OI]/[H\\alpha] BPT plots compared to [NII]/[H\\alpha] BPT classification, bounds defined in (Kewley, 2006)\n",
    "# '''\n",
    "\n",
    "\n",
    "# OIII_flux, OIII_error = get_flux_and_error_1_4_ARCSEC(SAMI_spectra_table_hdu, 'O III')\n",
    "# HBeta_flux, HBeta_error = get_flux_and_error_1_4_ARCSEC(SAMI_spectra_table_hdu, 'H Beta')\n",
    "# HAlpha_flux, HAlpha_error = get_flux_and_error_1_4_ARCSEC(SAMI_spectra_table_hdu, 'H Alpha')\n",
    "\n",
    "\n",
    "#     # initialise arrays for other BPT diagrams:\n",
    "# possible_AGN_array = np.zeros(Summary_table_len, dtype=bool)\n",
    "# Warning_not_AGN_other_BPT_array = np.zeros(Summary_table_len, dtype=bool)\n",
    "# Warning_different_AGN_type_other_BPT_array = np.zeros(Summary_table_len, dtype=bool)\n",
    "\n",
    "# for diagnostic_diagram in diagnostic_diagrams:\n",
    "#     plot_type = diagnostic_diagram[0]\n",
    "#     bpt_metal = diagnostic_diagram[1]\n",
    "\n",
    "#     metal_flux, metal_error = get_flux_and_error_1_4_ARCSEC(SAMI_spectra_table_hdu, bpt_metal)\n",
    "\n",
    "#     BPT_y = np.log10(OIII_flux/HBeta_flux)\n",
    "#     BPT_x = np.log10(metal_flux/HAlpha_flux)\n",
    "\n",
    "#     BPT_y_error = np.abs(BPT_y * np.sqrt( (OIII_error/OIII_flux)**2+(HBeta_error/HBeta_flux)**2))\n",
    "#     BPT_x_error = np.abs(BPT_x * np.sqrt( (metal_error/metal_flux)**2+(HAlpha_error/HAlpha_flux)**2))\n",
    "\n",
    "#     SN_array = np.max(np.array([BPT_y_error/BPT_y, BPT_x_error/BPT_x]), axis=0)\n",
    "\n",
    "#     SN_flag = SN_array > SN_lim\n",
    "\n",
    "#     galaxy_type_array, is_AGN_array = get_BPT_AGN_classification(BPT_x, BPT_x_error, BPT_y, BPT_y_error, metal = bpt_metal)\n",
    "#     if bpt_metal == 'N II':\n",
    "#         # set these array values as they will be used later to build the main BPT columns\n",
    "#         Category_BPT_array = galaxy_type_array.copy()\n",
    "#         Is_BPT_array = is_AGN_array.copy()\n",
    "#         Warning_BPT_SN_array = SN_flag.copy()\n",
    "\n",
    "\n",
    "\n",
    "#     else:\n",
    "#         # update possible AGN array if is AGN in other BPT\n",
    "#         possible_AGN_array = possible_AGN_array | is_AGN_array \n",
    "\n",
    "#         # update warning if not an AGN in other BPT (only if was originally considered an AGN)\n",
    "#         Warning_not_AGN_other_BPT_array = Warning_not_AGN_other_BPT_array | (~is_AGN_array & Is_BPT_array) \n",
    "\n",
    "#         # update warning if different type of AGN in other BPT\n",
    "#         same_AGN_type_array =  (Category_BPT_array == galaxy_type_array)\n",
    "#         Warning_different_AGN_type_other_BPT_array = Warning_different_AGN_type_other_BPT_array | (~same_AGN_type_array & Is_BPT_array) \n",
    "\n",
    "# # IS_BPT_AGN\n",
    "# Summary_table_hdu.add_column(astropy.table.Column(Is_BPT_array, name=f'IS_BPT_AGN', dtype=int))\n",
    "\n",
    "# # CATEGORY_BPT_AGN\n",
    "# Summary_table_hdu.add_column(astropy.table.Column(Category_BPT_array, name=f'CATEGORY_BPT_AGN', dtype=int))\n",
    "\n",
    "# # IS_POSSIBLE_BPT_AGN\n",
    "# Summary_table_hdu.add_column(astropy.table.Column(possible_AGN_array, name=f'IS_POSSIBLE_BPT_AGN', dtype=int))\n",
    "\n",
    "# # WARN_BPT_SN\n",
    "# Summary_table_hdu.add_column(astropy.table.Column(Warning_BPT_SN_array, name=f'WARN_BPT_SN', dtype=int))\n",
    "\n",
    "# # WARN_AGN_OTHER_BPT\n",
    "# Summary_table_hdu.add_column(astropy.table.Column(Warning_not_AGN_other_BPT_array, name=f'WARN_AGN_OTHER_BPT', dtype=int))\n",
    "\n",
    "# # WARN_AGN_TYPE_OTHER_BPT\n",
    "# Summary_table_hdu.add_column(astropy.table.Column(Warning_different_AGN_type_other_BPT_array, name=f'WARN_AGN_TYPE_OTHER_BPT', dtype=int))\n",
    "\n",
    "\n",
    "\n",
    "\n",
    "\n",
    "# # CROSS-MATCHING Columns\n",
    "\n",
    "#     # Use previously constructed catalogue summary table functions\n",
    "\n",
    "\n",
    "# # iterate for every column\n",
    "# for source_type in source_types:\n",
    "#     #expand tuple of crossmatching_params\n",
    "#     catalogue_filenames, max_sep_arcsec, position_colnames, catalogue_ID_col, flux_cols = crossmatching_survey_parameters[source_type]\n",
    "\n",
    "#     survey_cols_to_keep = (catalogue_ID_col,)+flux_cols\n",
    "\n",
    "#     # initialise array of is_in \n",
    "\n",
    "#     for crossmatching_catalogue in catalogue_filenames:\n",
    "#         crossmatched_catalogue = get_all_SAMI_crossmatched_fits_table(Source_dir+\"Catalogues\\\\\", crossmatching_catalogue, max_sep_arcsec, position_colnames, save_file=False, only_closest=False, survey_cols_to_keep=survey_cols_to_keep)\n",
    "        \n",
    "# # IS_{source_type}SOURCE         \n",
    "#         cube_is_crossmatched = np.isin(Summary_table_hdu['CATID'],crossmatched_catalogue['CATID'])*1\n",
    "#         # WARN_AGN_TYPE_OTHER_BPT\n",
    "#         Summary_table_hdu.add_column(astropy.table.Column(cube_is_crossmatched, name=f'IS_{source_type.upper()}SOURCE', dtype=int))\n",
    "\n",
    "# # add the columns for source_type catalogue id\n",
    "#         Summary_table_hdu = join(Summary_table_hdu, crossmatched_catalogue[('CATID', catalogue_ID_col)], join_type='left')\n",
    "        \n",
    "# # {source_type}_MATCHED_ID\n",
    "#         Summary_table_hdu.rename_column(catalogue_ID_col, f'{source_type.upper()}_MATCHED_ID')\n",
    "        \n",
    "\n",
    "#         # for the right source type need to add total flux and flux error\n",
    "#         if source_type in ('Radio', 'XRay'):\n",
    "\n",
    "# # add the columns for source_type total flux and total flux error \n",
    "#             Summary_table_hdu = join(Summary_table_hdu, crossmatched_catalogue[('CATID', flux_cols[0], flux_cols[1])], join_type='left')\n",
    "\n",
    "\n",
    "\n",
    "# # {source_type}_TOTALFLUX\n",
    "#             Summary_table_hdu.rename_column(flux_cols[0], f'{source_type.upper()}_TOTALFLUX')\n",
    "\n",
    "# # {source_type}_TOTALFLUX_ERR\n",
    "#             Summary_table_hdu.rename_column(flux_cols[1], f'{source_type.upper()}_TOTALFLUX_ERR')\n",
    "\n",
    "# save_file = False\n",
    "# if save_file:\n",
    "#     Summary_table_filename = f\"SAMI_AGN_matches.fits\"\n",
    "\n",
    "#     Summary_table_filepath = catalogue_filepath+\"Crossmatched\\\\\"+Summary_table_filename\n",
    "#     Summary_table_hdu.write(Summary_table_filepath)\n",
    "#     print(f\"Summary Table Saved to: {Summary_table_filepath}\")\n",
    "\n",
    "\n",
    "\n",
    "# Summary_table_hdu"
   ]
  },
  {
   "cell_type": "code",
   "execution_count": 12,
   "id": "2f166a30",
   "metadata": {},
   "outputs": [
    {
     "ename": "KeyError",
     "evalue": "'SAMI_region'",
     "output_type": "error",
     "traceback": [
      "\u001b[1;31m---------------------------------------------------------------------------\u001b[0m",
      "\u001b[1;31mKeyError\u001b[0m                                  Traceback (most recent call last)",
      "Cell \u001b[1;32mIn[12], line 1\u001b[0m\n\u001b[1;32m----> 1\u001b[0m np\u001b[38;5;241m.\u001b[39msum(np\u001b[38;5;241m.\u001b[39misin(\u001b[43mcrossmatched_catalogue\u001b[49m\u001b[43m[\u001b[49m\u001b[38;5;124;43m'\u001b[39;49m\u001b[38;5;124;43mSAMI_region\u001b[39;49m\u001b[38;5;124;43m'\u001b[39;49m\u001b[43m]\u001b[49m, (\u001b[38;5;124m'\u001b[39m\u001b[38;5;124mCluster\u001b[39m\u001b[38;5;124m'\u001b[39m, \u001b[38;5;124m'\u001b[39m\u001b[38;5;124mFiller\u001b[39m\u001b[38;5;124m'\u001b[39m, \u001b[38;5;124m'\u001b[39m\u001b[38;5;124mGAMA\u001b[39m\u001b[38;5;124m'\u001b[39m)))\n\u001b[0;32m      4\u001b[0m crossmatched_catalogue\n\u001b[0;32m      5\u001b[0m test \u001b[38;5;241m=\u001b[39m Summary_table_hdu[\u001b[38;5;124m'\u001b[39m\u001b[38;5;124mCATID\u001b[39m\u001b[38;5;124m'\u001b[39m, \u001b[38;5;124m'\u001b[39m\u001b[38;5;124mIS_BPT_AGN\u001b[39m\u001b[38;5;124m'\u001b[39m, \u001b[38;5;124m'\u001b[39m\u001b[38;5;124mCATEGORY_BPT_AGN\u001b[39m\u001b[38;5;124m'\u001b[39m]\n",
      "File \u001b[1;32mc:\\Users\\mspan\\miniforge3\\Lib\\site-packages\\astropy\\table\\table.py:2064\u001b[0m, in \u001b[0;36mTable.__getitem__\u001b[1;34m(self, item)\u001b[0m\n\u001b[0;32m   2062\u001b[0m \u001b[38;5;28;01mdef\u001b[39;00m \u001b[38;5;21m__getitem__\u001b[39m(\u001b[38;5;28mself\u001b[39m, item):\n\u001b[0;32m   2063\u001b[0m     \u001b[38;5;28;01mif\u001b[39;00m \u001b[38;5;28misinstance\u001b[39m(item, \u001b[38;5;28mstr\u001b[39m):\n\u001b[1;32m-> 2064\u001b[0m         \u001b[38;5;28;01mreturn\u001b[39;00m \u001b[38;5;28;43mself\u001b[39;49m\u001b[38;5;241;43m.\u001b[39;49m\u001b[43mcolumns\u001b[49m\u001b[43m[\u001b[49m\u001b[43mitem\u001b[49m\u001b[43m]\u001b[49m\n\u001b[0;32m   2065\u001b[0m     \u001b[38;5;28;01melif\u001b[39;00m \u001b[38;5;28misinstance\u001b[39m(item, (\u001b[38;5;28mint\u001b[39m, np\u001b[38;5;241m.\u001b[39minteger)):\n\u001b[0;32m   2066\u001b[0m         \u001b[38;5;28;01mreturn\u001b[39;00m \u001b[38;5;28mself\u001b[39m\u001b[38;5;241m.\u001b[39mRow(\u001b[38;5;28mself\u001b[39m, item)\n",
      "File \u001b[1;32mc:\\Users\\mspan\\miniforge3\\Lib\\site-packages\\astropy\\table\\table.py:266\u001b[0m, in \u001b[0;36mTableColumns.__getitem__\u001b[1;34m(self, item)\u001b[0m\n\u001b[0;32m    255\u001b[0m \u001b[38;5;250m\u001b[39m\u001b[38;5;124;03m\"\"\"Get items from a TableColumns object.\u001b[39;00m\n\u001b[0;32m    256\u001b[0m \n\u001b[0;32m    257\u001b[0m \u001b[38;5;124;03m::\u001b[39;00m\n\u001b[1;32m   (...)\u001b[0m\n\u001b[0;32m    263\u001b[0m \u001b[38;5;124;03m  tc[1:3] # <TableColumns names=('b', 'c')>\u001b[39;00m\n\u001b[0;32m    264\u001b[0m \u001b[38;5;124;03m\"\"\"\u001b[39;00m\n\u001b[0;32m    265\u001b[0m \u001b[38;5;28;01mif\u001b[39;00m \u001b[38;5;28misinstance\u001b[39m(item, \u001b[38;5;28mstr\u001b[39m):\n\u001b[1;32m--> 266\u001b[0m     \u001b[38;5;28;01mreturn\u001b[39;00m \u001b[43mOrderedDict\u001b[49m\u001b[38;5;241;43m.\u001b[39;49m\u001b[38;5;21;43m__getitem__\u001b[39;49m\u001b[43m(\u001b[49m\u001b[38;5;28;43mself\u001b[39;49m\u001b[43m,\u001b[49m\u001b[43m \u001b[49m\u001b[43mitem\u001b[49m\u001b[43m)\u001b[49m\n\u001b[0;32m    267\u001b[0m \u001b[38;5;28;01melif\u001b[39;00m \u001b[38;5;28misinstance\u001b[39m(item, (\u001b[38;5;28mint\u001b[39m, np\u001b[38;5;241m.\u001b[39minteger)):\n\u001b[0;32m    268\u001b[0m     \u001b[38;5;28;01mreturn\u001b[39;00m \u001b[38;5;28mlist\u001b[39m(\u001b[38;5;28mself\u001b[39m\u001b[38;5;241m.\u001b[39mvalues())[item]\n",
      "\u001b[1;31mKeyError\u001b[0m: 'SAMI_region'"
     ]
    }
   ],
   "source": [
    "np.sum(np.isin(crossmatched_catalogue['SAMI_region'], ('Cluster', 'Filler', 'GAMA')))\n",
    "\n",
    "\n",
    "crossmatched_catalogue\n",
    "test = Summary_table_hdu['CATID', 'IS_BPT_AGN', 'CATEGORY_BPT_AGN']\n",
    "test[test['IS_BPT_AGN'] == 0]"
   ]
  },
  {
   "cell_type": "code",
   "execution_count": null,
   "id": "9cbe0f16",
   "metadata": {},
   "outputs": [
    {
     "name": "stdout",
     "output_type": "stream",
     "text": [
      "3067\n",
      "1\n"
     ]
    },
    {
     "data": {
      "text/html": [
       "<div><i>Table length=3425</i>\n",
       "<table id=\"table2582513975568\" class=\"table-striped table-bordered table-condensed\">\n",
       "<thead><tr><th>CUBEIDPUB_1</th><th>CUBEIDPUB_2</th></tr></thead>\n",
       "<thead><tr><th>str12</th><th>str16</th></tr></thead>\n",
       "<tr><td>6821_A</td><td>6821_A</td></tr>\n",
       "<tr><td>6837_A</td><td>6837_A</td></tr>\n",
       "<tr><td>7139_A</td><td>7139_A</td></tr>\n",
       "<tr><td>7206_A</td><td>7206_A</td></tr>\n",
       "<tr><td>7289_A</td><td>7289_A</td></tr>\n",
       "<tr><td>7715_A</td><td>7715_A</td></tr>\n",
       "<tr><td>7839_A</td><td>7839_A</td></tr>\n",
       "<tr><td>7841_A</td><td>7841_A</td></tr>\n",
       "<tr><td>7946_A</td><td>7946_A</td></tr>\n",
       "<tr><td>...</td><td>...</td></tr>\n",
       "<tr><td>9403801061_A</td><td>9403801061_A</td></tr>\n",
       "<tr><td>9403801062_A</td><td>9403801062_A</td></tr>\n",
       "<tr><td>9403801088_A</td><td>9403801088_A</td></tr>\n",
       "<tr><td>9403801173_A</td><td>9403801173_A</td></tr>\n",
       "<tr><td>9403801183_A</td><td>9403801183_A</td></tr>\n",
       "<tr><td>9403801268_A</td><td>9403801268_A</td></tr>\n",
       "<tr><td>9403801272_A</td><td>9403801272_A</td></tr>\n",
       "<tr><td>9403801281_A</td><td>9403801281_A</td></tr>\n",
       "<tr><td>9403801368_A</td><td>9403801368_A</td></tr>\n",
       "<tr><td>9403801579_A</td><td>9403801579_A</td></tr>\n",
       "</table></div>"
      ],
      "text/plain": [
       "<Table length=3425>\n",
       "CUBEIDPUB_1  CUBEIDPUB_2 \n",
       "   str12        str16    \n",
       "------------ ------------\n",
       "      6821_A       6821_A\n",
       "      6837_A       6837_A\n",
       "      7139_A       7139_A\n",
       "      7206_A       7206_A\n",
       "      7289_A       7289_A\n",
       "      7715_A       7715_A\n",
       "      7839_A       7839_A\n",
       "      7841_A       7841_A\n",
       "      7946_A       7946_A\n",
       "         ...          ...\n",
       "9403801061_A 9403801061_A\n",
       "9403801062_A 9403801062_A\n",
       "9403801088_A 9403801088_A\n",
       "9403801173_A 9403801173_A\n",
       "9403801183_A 9403801183_A\n",
       "9403801268_A 9403801268_A\n",
       "9403801272_A 9403801272_A\n",
       "9403801281_A 9403801281_A\n",
       "9403801368_A 9403801368_A\n",
       "9403801579_A 9403801579_A"
      ]
     },
     "execution_count": 161,
     "metadata": {},
     "output_type": "execute_result"
    }
   ],
   "source": [
    "Summary_BPT_table_hdu\n",
    "#Summary_BPT_table_hdu[Summary_BPT_table_hdu['CATID'] == 56140]\n",
    "\n",
    "print(np.sum(np.isin(Summary_BPT_table_hdu['CUBEIDPUB'], Summary_table_hdu['CUBEIDPUB'])))\n",
    "\n",
    "test_table = join(Summary_BPT_table_hdu, Summary_table_hdu, keys=('CATID'), join_type='left')\n",
    "\n",
    "print(np.sum(test_table['CUBEIDPUB_1'][0] == '6821_A'))\n",
    "\n",
    "test_table['CUBEIDPUB_2'][0]\n",
    "test_table['CUBEIDPUB_1', 'CUBEIDPUB_2']\n"
   ]
  },
  {
   "cell_type": "markdown",
   "id": "72c8b9e5",
   "metadata": {},
   "source": [
    "## Broadlines"
   ]
  },
  {
   "cell_type": "code",
   "execution_count": null,
   "id": "177eb160",
   "metadata": {},
   "outputs": [
    {
     "data": {
      "text/html": [
       "<div><i>Table length=11</i>\n",
       "<table id=\"table2834083384400\" class=\"table-striped table-bordered table-condensed\">\n",
       "<thead><tr><th>CUBEIDPUB</th><th>CUBEID</th><th>CATID</th><th>IS_BPT_AGN</th><th>CATEGORY_BPT_AGN</th><th>IS_OTHER_BPT_AGN</th><th>WARN_BPT_SN</th><th>WARN_AGN_OTHER_BPT</th><th>WARN_AGN_TYPE_OTHER_BPT</th><th>IS_RADIOSOURCE</th><th>RACS_MATCHED_ID</th><th>RACS_TOTALFLUX</th><th>RACS_TOTALFLUX_ERR</th><th>RACS_SOURCE_CLASSIFICATION</th><th>IS_XRAYSOURCE</th><th>eROSITA_MATCHED_ID</th><th>eROSITA_TOTALFLUX_1</th><th>eROSITA_TOTALFLUX_1_ERR</th><th>eROSITA_TOTALFLUX_2</th><th>eROSITA_TOTALFLUX_2_ERR</th><th>eROSITA_TOTALFLUX_3</th><th>eROSITA_TOTALFLUX_3_ERR</th><th>IS_LARGESSSOURCE</th><th>LARGESS_MATCHED_ID</th><th>LARGESS_imod</th><th>LARGESS_e_imod</th><th>N_FIRST</th><th>FIRST_TOTALFLUX</th><th>N_NVSS</th><th>NVSS_TOTALFLUX</th><th>IS_BROADLINE_AGN</th><th>M_STAR</th><th>Z_SPEC</th><th>SFR_SAMI</th><th>SFR_SAMI_FLAG</th></tr></thead>\n",
       "<thead><tr><th>str16</th><th>str80</th><th>int64</th><th>int64</th><th>int64</th><th>int64</th><th>int64</th><th>int64</th><th>int64</th><th>int64</th><th>str17</th><th>float64</th><th>float64</th><th>str1</th><th>int64</th><th>str23</th><th>float32</th><th>float32</th><th>float32</th><th>float32</th><th>float32</th><th>float32</th><th>int64</th><th>str19</th><th>float64</th><th>float64</th><th>int64</th><th>float64</th><th>int64</th><th>float64</th><th>int64</th><th>float32</th><th>float64</th><th>float64</th><th>float64</th></tr></thead>\n",
       "<tr><td>238358_A</td><td>238358_7_Y13SAR1_P012_15T012_2013_04_12-2013_04_16</td><td>238358</td><td>1</td><td>6</td><td>1</td><td>0</td><td>0</td><td>1</td><td>1</td><td>RACS_1419+00_2408</td><td>2.922140312110341</td><td>0.5338929870920224</td><td>S</td><td>1</td><td>1eRASS J141630.6+013710</td><td>6.2745604e-13</td><td>6.3117283e-14</td><td>3.1658527e-13</td><td>1.3903653e-13</td><td>0.0</td><td>2.5925597e-13</td><td>1</td><td>J141630.81+013707.9</td><td>14.344</td><td>0.003</td><td>1</td><td>1.7</td><td>1</td><td>3.1</td><td>1</td><td>10.78</td><td>0.03922000154852867</td><td>0.6102894805692318</td><td>1.0</td></tr>\n",
       "<tr><td>298590_A</td><td>298590_7_Y15SAR4_P004_15T113_2016_03_03-2016_03_13</td><td>298590</td><td>0</td><td>3</td><td>1</td><td>0</td><td>0</td><td>0</td><td>0</td><td>--</td><td>--</td><td>--</td><td>--</td><td>1</td><td>1eRASS J144242.6+011910</td><td>3.5635142e-13</td><td>4.6606758e-14</td><td>8.350063e-14</td><td>7.415122e-14</td><td>4.9619586e-13</td><td>4.824728e-13</td><td>0</td><td>--</td><td>--</td><td>--</td><td>--</td><td>--</td><td>--</td><td>--</td><td>1</td><td>10.55</td><td>0.035280000418424606</td><td>-0.08093088327020487</td><td>0.0</td></tr>\n",
       "<tr><td>323854_A</td><td>323854_7_Y14SBR2_P002_09T089_2015_01_19-2015_01_26</td><td>323854</td><td>1</td><td>6</td><td>0</td><td>0</td><td>1</td><td>1</td><td>0</td><td>--</td><td>--</td><td>--</td><td>--</td><td>0</td><td>--</td><td>--</td><td>--</td><td>--</td><td>--</td><td>--</td><td>--</td><td>0</td><td>--</td><td>--</td><td>--</td><td>--</td><td>--</td><td>--</td><td>--</td><td>1</td><td>10.71</td><td>0.08622000366449356</td><td>0.2790517940067508</td><td>0.0</td></tr>\n",
       "<tr><td>376679_A</td><td>376679_7_Y15SAR1_P002_09T098_2016_03_03-2016_03_13</td><td>376679</td><td>1</td><td>7</td><td>0</td><td>0</td><td>1</td><td>1</td><td>1</td><td>RACS_0857+00_1658</td><td>2.5507390821431613</td><td>0.48286752164642865</td><td>S</td><td>1</td><td>1eRASS J085836.0+013146</td><td>4.0587142e-14</td><td>2.374678e-14</td><td>0.0</td><td>7.1658384e-14</td><td>5.8665974e-13</td><td>1.1038711e-12</td><td>1</td><td>J085835.98+013149.5</td><td>15.198</td><td>0.004</td><td>1</td><td>1.91</td><td>0</td><td>-99.0</td><td>1</td><td>11.09</td><td>0.07709000259637833</td><td>1.1500483620044273</td><td>1.0</td></tr>\n",
       "<tr><td>463148_A</td><td>463148_6_Y14SAR4_P004_15T090_2014_05_23-2014_06_01</td><td>463148</td><td>1</td><td>7</td><td>1</td><td>0</td><td>0</td><td>0</td><td>0</td><td>--</td><td>--</td><td>--</td><td>--</td><td>0</td><td>--</td><td>--</td><td>--</td><td>--</td><td>--</td><td>--</td><td>--</td><td>0</td><td>--</td><td>--</td><td>--</td><td>--</td><td>--</td><td>--</td><td>--</td><td>1</td><td>10.02</td><td>0.005760000087320805</td><td>-0.31600801552268526</td><td>0.0</td></tr>\n",
       "<tr><td>491508_A</td><td>491508_6_Y14SAR4_P004_15T090_2014_05_23-2014_06_01</td><td>491508</td><td>0</td><td>2</td><td>0</td><td>0</td><td>0</td><td>0</td><td>1</td><td>RACS_1358+00_567</td><td>1.1365019242516479</td><td>0.25784187097195527</td><td>S</td><td>0</td><td>--</td><td>--</td><td>--</td><td>--</td><td>--</td><td>--</td><td>--</td><td>0</td><td>--</td><td>--</td><td>--</td><td>--</td><td>--</td><td>--</td><td>--</td><td>1</td><td>10.61</td><td>0.028279999271035194</td><td>0.47408460250297085</td><td>0.0</td></tr>\n",
       "<tr><td>718921_A</td><td>718921_7_Y17SAR3_P010_15T133_2018_05_07-2018_05_16</td><td>718921</td><td>0</td><td>-1</td><td>0</td><td>0</td><td>0</td><td>0</td><td>1</td><td>RACS_1419+00_646</td><td>2.302553449354643</td><td>0.5093354501104744</td><td>S</td><td>1</td><td>1eRASS J142906.6+011706</td><td>7.3452884e-12</td><td>2.0870828e-13</td><td>3.2169848e-12</td><td>4.1740933e-13</td><td>2.2749621e-12</td><td>1.0761278e-12</td><td>1</td><td>J142906.57+011706.0</td><td>13.848</td><td>0.004</td><td>1</td><td>1.95</td><td>1</td><td>2.7</td><td>1</td><td>11.19</td><td>0.07569000124931335</td><td>1.655106813873339</td><td>1.0</td></tr>\n",
       "<tr><td>3631902_A</td><td>3631902_6_Y18SAR1_P002_09T140_2018_04_09-2018_04_19</td><td>3631902</td><td>1</td><td>7</td><td>1</td><td>0</td><td>0</td><td>0</td><td>0</td><td>--</td><td>--</td><td>--</td><td>--</td><td>1</td><td>1eRASS J091135.1-005157</td><td>6.153012e-14</td><td>2.9726194e-14</td><td>9.984271e-14</td><td>1.1211958e-13</td><td>0.0</td><td>6.378549e-13</td><td>0</td><td>--</td><td>--</td><td>--</td><td>--</td><td>--</td><td>--</td><td>--</td><td>1</td><td>10.36</td><td>0.05583000183105469</td><td>0.22983396262755837</td><td>1.0</td></tr>\n",
       "<tr><td>9008500673_A</td><td>9008500673_10_Y14SBR1_P003_A0085T008_2014_10_21-2014_10_26</td><td>9008500673</td><td>0</td><td>2</td><td>0</td><td>0</td><td>0</td><td>0</td><td>0</td><td>--</td><td>--</td><td>--</td><td>--</td><td>0</td><td>--</td><td>--</td><td>--</td><td>--</td><td>--</td><td>--</td><td>--</td><td>0</td><td>--</td><td>--</td><td>--</td><td>--</td><td>--</td><td>--</td><td>--</td><td>1</td><td>10.771184</td><td>0.0449310801923275</td><td>0.5275430300548675</td><td>0.0</td></tr>\n",
       "<tr><td>9011900430_A</td><td>9011900430_7_Y15SBR2_P006_A0119T035_2016_09_28-2016_10_04</td><td>9011900430</td><td>1</td><td>6</td><td>1</td><td>0</td><td>0</td><td>1</td><td>1</td><td>RACS_0104+00_2817</td><td>5618.47763012387</td><td>337.40456003808833</td><td>M</td><td>0</td><td>--</td><td>--</td><td>--</td><td>--</td><td>--</td><td>--</td><td>--</td><td>0</td><td>--</td><td>--</td><td>--</td><td>--</td><td>--</td><td>--</td><td>--</td><td>1</td><td>11.389562</td><td>0.05610300973057747</td><td>nan</td><td>nan</td></tr>\n",
       "<tr><td>9016800276_A</td><td>9016800276_7_Y15SBR1_P005_A0168T027_2015_09_07-2015_09_13</td><td>9016800276</td><td>1</td><td>6</td><td>0</td><td>0</td><td>1</td><td>1</td><td>0</td><td>--</td><td>--</td><td>--</td><td>--</td><td>0</td><td>--</td><td>--</td><td>--</td><td>--</td><td>--</td><td>--</td><td>--</td><td>0</td><td>--</td><td>--</td><td>--</td><td>--</td><td>--</td><td>--</td><td>--</td><td>1</td><td>10.390971</td><td>0.06272609531879425</td><td>-0.04484081588409118</td><td>0.0</td></tr>\n",
       "</table></div>"
      ],
      "text/plain": [
       "<Table length=11>\n",
       " CUBEIDPUB   ... SFR_SAMI_FLAG\n",
       "   str16     ...    float64   \n",
       "------------ ... -------------\n",
       "    238358_A ...           1.0\n",
       "    298590_A ...           0.0\n",
       "    323854_A ...           0.0\n",
       "    376679_A ...           1.0\n",
       "    463148_A ...           0.0\n",
       "    491508_A ...           0.0\n",
       "    718921_A ...           1.0\n",
       "   3631902_A ...           1.0\n",
       "9008500673_A ...           0.0\n",
       "9011900430_A ...           nan\n",
       "9016800276_A ...           0.0"
      ]
     },
     "execution_count": 56,
     "metadata": {},
     "output_type": "execute_result"
    }
   ],
   "source": [
    "broadlines = [238358, 298590, 323854, 3631902, 376679, 463148, 491508, 718921, 9008500673, 9011900430, 9016800276]\n",
    "test_table = Summary_table_hdu[np.isin(Summary_table_hdu['CATID'], broadlines)]\n",
    "#Summary_table_hdu\n",
    "#Summary_BPT_table_hdu\n",
    "\n",
    "#test_table['CUBEID'][0] == test_table['CUBEID'][1]\n",
    "\n",
    "#Summary_BPT_table_hdu[Summary_BPT_table_hdu['CATID'] == 10000001]\n",
    "#print(np.sum(Summary_table_hdu['IS_BPT_AGN'] == 0)+ np.sum(Summary_table_hdu['IS_BPT_AGN'] == 1) + np.sum(Summary_table_hdu['IS_BPT_AGN'].mask))\n",
    "test_table"
   ]
  },
  {
   "cell_type": "code",
   "execution_count": null,
   "id": "32a65ad5",
   "metadata": {},
   "outputs": [
    {
     "data": {
      "text/html": [
       "&lt;Column name=&apos;CATID&apos; dtype=&apos;int64&apos; length=3067&gt;\n",
       "<table>\n",
       "<tr><td>6821</td></tr>\n",
       "<tr><td>6837</td></tr>\n",
       "<tr><td>7139</td></tr>\n",
       "<tr><td>7206</td></tr>\n",
       "<tr><td>7289</td></tr>\n",
       "<tr><td>7715</td></tr>\n",
       "<tr><td>7839</td></tr>\n",
       "<tr><td>7841</td></tr>\n",
       "<tr><td>7946</td></tr>\n",
       "<tr><td>7969</td></tr>\n",
       "<tr><td>7992</td></tr>\n",
       "<tr><td>8319</td></tr>\n",
       "<tr><td>...</td></tr>\n",
       "<tr><td>9403801010</td></tr>\n",
       "<tr><td>9403801061</td></tr>\n",
       "<tr><td>9403801062</td></tr>\n",
       "<tr><td>9403801088</td></tr>\n",
       "<tr><td>9403801173</td></tr>\n",
       "<tr><td>9403801183</td></tr>\n",
       "<tr><td>9403801268</td></tr>\n",
       "<tr><td>9403801272</td></tr>\n",
       "<tr><td>9403801281</td></tr>\n",
       "<tr><td>9403801368</td></tr>\n",
       "<tr><td>9403801579</td></tr>\n",
       "</table>"
      ],
      "text/plain": [
       "<Column name='CATID' dtype='int64' length=3067>\n",
       "      6821\n",
       "      6837\n",
       "      7139\n",
       "      7206\n",
       "      7289\n",
       "      7715\n",
       "      7839\n",
       "      7841\n",
       "      7946\n",
       "      7969\n",
       "      7992\n",
       "      8319\n",
       "       ...\n",
       "9403801010\n",
       "9403801061\n",
       "9403801062\n",
       "9403801088\n",
       "9403801173\n",
       "9403801183\n",
       "9403801268\n",
       "9403801272\n",
       "9403801281\n",
       "9403801368\n",
       "9403801579"
      ]
     },
     "execution_count": 19,
     "metadata": {},
     "output_type": "execute_result"
    }
   ],
   "source": [
    "np.unique(SAMI_spectra_table_hdu['CATID'])"
   ]
  },
  {
   "cell_type": "code",
   "execution_count": null,
   "id": "84b6166a",
   "metadata": {},
   "outputs": [
    {
     "name": "stdout",
     "output_type": "stream",
     "text": [
      "7700.703551074278 AU\n"
     ]
    }
   ],
   "source": [
    "import astropy.units as u\n",
    "from astropy import constants as const\n",
    "import numpy as np\n",
    "\n",
    "M_sun = const.M_sun\n",
    "a_0 = 1e-10 *u.m * u.s**(-2)\n",
    "\n",
    "r = np.sqrt(const.G * M_sun /a_0)\n",
    "print(r.to(u.AU))"
   ]
  },
  {
   "cell_type": "code",
   "execution_count": 67,
   "id": "fa5eb02e",
   "metadata": {},
   "outputs": [
    {
     "data": {
      "image/png": "[encoded data removed]",
      "text/plain": [
       "<Figure size 640x480 with 1 Axes>"
      ]
     },
     "metadata": {},
     "output_type": "display_data"
    }
   ],
   "source": [
    "Summary_table_hdu_radiomatches = Summary_table_hdu[Summary_table_hdu['IS_RADIOSOURCE'] == 1]\n",
    "\n",
    "# Get the column as a numpy array\n",
    "categories = np.array(Summary_table_hdu_radiomatches['CATEGORY_BPT_AGN'])\n",
    "\n",
    "# Count occurrences of each unique value\n",
    "unique, counts = np.unique(categories, return_counts=True)\n",
    "\n",
    "# Create the bar plot\n",
    "plt.bar(unique, counts)\n",
    "plt.xlabel('CATEGORY_BPT_AGN')\n",
    "plt.ylabel('Count')\n",
    "plt.title('Distribution of CATEGORY_BPT_AGN for Radio Sources')\n",
    "plt.show()\n",
    "\n"
   ]
  },
  {
   "cell_type": "code",
   "execution_count": null,
   "id": "4aed0f56",
   "metadata": {},
   "outputs": [
    {
     "data": {
      "text/plain": [
       "np.int64(46)"
      ]
     },
     "execution_count": 51,
     "metadata": {},
     "output_type": "execute_result"
    }
   ],
   "source": [
    "np.sum(counts[np.isin(unique, (6,7,8,9,10))])"
   ]
  },
  {
   "cell_type": "code",
   "execution_count": 68,
   "id": "bc37fe3c",
   "metadata": {},
   "outputs": [
    {
     "data": {
      "image/png": "[encoded data removed]",
      "text/plain": [
       "<Figure size 640x480 with 1 Axes>"
      ]
     },
     "metadata": {},
     "output_type": "display_data"
    },
    {
     "data": {
      "text/plain": [
       "np.int64(8)"
      ]
     },
     "execution_count": 68,
     "metadata": {},
     "output_type": "execute_result"
    }
   ],
   "source": [
    "Summary_table_hdu_xraymatches = Summary_table_hdu[Summary_table_hdu['IS_XRAYSOURCE'] == 1]\n",
    "\n",
    "# Get the column as a numpy array\n",
    "categories = np.array(Summary_table_hdu_xraymatches['CATEGORY_BPT_AGN'])\n",
    "\n",
    "# Count occurrences of each unique value\n",
    "unique, counts = np.unique(categories, return_counts=True)\n",
    "\n",
    "# Create the bar plot\n",
    "plt.bar(unique, counts)\n",
    "plt.xlabel('CATEGORY_BPT_AGN')\n",
    "plt.ylabel('Count')\n",
    "plt.title('Distribution of CATEGORY_BPT_AGN for X-Ray Sources')\n",
    "plt.show()\n",
    "\n",
    "np.sum(counts[np.isin(unique, (6,7,8,9,10))])"
   ]
  },
  {
   "cell_type": "code",
   "execution_count": 14,
   "id": "56836a29",
   "metadata": {},
   "outputs": [
    {
     "data": {
      "image/png": "[encoded data removed]",
      "text/plain": [
       "<Figure size 640x480 with 1 Axes>"
      ]
     },
     "metadata": {},
     "output_type": "display_data"
    },
    {
     "data": {
      "text/plain": [
       "np.int64(31)"
      ]
     },
     "execution_count": 14,
     "metadata": {},
     "output_type": "execute_result"
    }
   ],
   "source": [
    "Summary_table_hdu_LARGESSmatches = Summary_table_hdu[Summary_table_hdu['IS_LARGESSSOURCE'] == 1]\n",
    "\n",
    "# Get the column as a numpy array\n",
    "categories = np.array(Summary_table_hdu_LARGESSmatches['CATEGORY_BPT_AGN'])\n",
    "\n",
    "# Count occurrences of each unique value\n",
    "unique, counts = np.unique(categories, return_counts=True)\n",
    "\n",
    "# Create the bar plot\n",
    "plt.bar(unique, counts)\n",
    "plt.xlabel('CATEGORY_BPT_AGN')\n",
    "plt.ylabel('Count')\n",
    "plt.title('Distribution of CATEGORY_BPT_AGN for LARGESS matches')\n",
    "plt.show()\n",
    "\n",
    "np.sum(counts[np.isin(unique, (6,7,8,9,10))])"
   ]
  },
  {
   "cell_type": "code",
   "execution_count": 15,
   "id": "dfe7e446",
   "metadata": {},
   "outputs": [
    {
     "data": {
      "text/html": [
       "<div><i>Table length=6</i>\n",
       "<table id=\"table2419819807520\" class=\"table-striped table-bordered table-condensed\">\n",
       "<thead><tr><th>CATID</th><th>RA_OBJ</th><th>DEC_OBJ</th></tr></thead>\n",
       "<thead><tr><th>int64</th><th>float64</th><th>float64</th></tr></thead>\n",
       "<tr><td>220330</td><td>181.10492248</td><td>1.6473063</td></tr>\n",
       "<tr><td>136880</td><td>176.33707383</td><td>-1.81279084</td></tr>\n",
       "<tr><td>106549</td><td>216.55409249</td><td>0.8605753</td></tr>\n",
       "<tr><td>91589</td><td>212.79368649</td><td>0.57878925</td></tr>\n",
       "<tr><td>99428</td><td>182.76693192</td><td>0.97233591</td></tr>\n",
       "<tr><td>107528</td><td>220.59837241</td><td>0.90799816</td></tr>\n",
       "</table></div>"
      ],
      "text/plain": [
       "<Table length=6>\n",
       "CATID     RA_OBJ      DEC_OBJ  \n",
       "int64    float64      float64  \n",
       "------ ------------ -----------\n",
       "220330 181.10492248   1.6473063\n",
       "136880 176.33707383 -1.81279084\n",
       "106549 216.55409249   0.8605753\n",
       " 91589 212.79368649  0.57878925\n",
       " 99428 182.76693192  0.97233591\n",
       "107528 220.59837241  0.90799816"
      ]
     },
     "execution_count": 15,
     "metadata": {},
     "output_type": "execute_result"
    }
   ],
   "source": [
    "HII_CATIDs = [9163, 9352, 14555]\n",
    "Seyfert2_CATIDs = [209698, 388424, 396833, 376478, 347769, 388200]\n",
    "Seyfert1_CATIDs = [137809, 376679, 238358, 3631902, 718921]\n",
    "LINER_CATIDs = [91589, 99428, 106549, 107528, 136880, 220330]\n",
    "\n",
    "\n",
    "catalogue_filepath = Source_dir+\"Catalogues\\\\\"\n",
    "with fits.open(catalogue_filepath + \"ALL_SAMI_TARGETS.fits\") as all_SAMI_targets_hdul:\n",
    "    all_SAMI_target_table = Table(all_SAMI_targets_hdul[1].data)\n",
    "\n",
    "new_table = all_SAMI_target_table.copy()\n",
    "new_table.keep_columns(('CATID', 'RA_OBJ', 'DEC_OBJ'))\n",
    "new_table[np.isin(new_table['CATID'], LINER_CATIDs)]"
   ]
  },
  {
   "cell_type": "code",
   "execution_count": 6,
   "id": "3d7813f7",
   "metadata": {},
   "outputs": [
    {
     "name": "stderr",
     "output_type": "stream",
     "text": [
      "c:\\Users\\mspan\\OneDrive - The University of Sydney (Students)\\Honours\\Honours Project\\sami_tools_smc_mspa4681\\Code\\all_fctns.py:196: RuntimeWarning: invalid value encountered in log10\n",
      "  logBPT_y_min = np.log10(BPT_y - BPT_y_error)\n",
      "c:\\Users\\mspan\\OneDrive - The University of Sydney (Students)\\Honours\\Honours Project\\sami_tools_smc_mspa4681\\Code\\all_fctns.py:199: RuntimeWarning: invalid value encountered in log10\n",
      "  logBPT_x_min = np.log10(BPT_x - BPT_x_error)\n"
     ]
    },
    {
     "data": {
      "text/html": [
       "<div><i>Table length=3245</i>\n",
       "<table id=\"table2419817645456\" class=\"table-striped table-bordered table-condensed\">\n",
       "<thead><tr><th>CUBEIDPUB</th><th>CUBEID</th><th>CATID</th><th>IS_BPT_AGN</th><th>CATEGORY_BPT_AGN</th><th>IS_OTHER_BPT_AGN</th><th>WARN_BPT_SN</th><th>WARN_AGN_OTHER_BPT</th><th>WARN_AGN_TYPE_OTHER_BPT</th><th>IS_RADIOSOURCE</th><th>IS_RACSSOURCE</th><th>RACS_MATCHED_ID</th><th>RACS_TOTALFLUX</th><th>RACS_TOTALFLUX_ERR</th><th>RACS_SOURCE_CLASSIFICATION</th><th>IS_LARGESSSOURCE</th><th>LARGESS_MATCHED_ID</th><th>LARGESS_imod</th><th>LARGESS_e_imod</th><th>N_FIRST</th><th>FIRST_TOTALFLUX</th><th>N_NVSS</th><th>NVSS_TOTALFLUX</th><th>IS_XRAYSOURCE</th><th>eRASS1_MATCHED_ID</th><th>eRASS1_TOTALFLUX_1</th><th>eRASS1_TOTALFLUX_1_ERR</th><th>eRASS1_TOTALFLUX_2</th><th>eRASS1_TOTALFLUX_2_ERR</th><th>eRASS1_TOTALFLUX_3</th><th>eRASS1_TOTALFLUX_3_ERR</th><th>IS_BROADLINE_AGN</th><th>M_STAR</th><th>Z_SPEC</th><th>SFR_SAMI</th><th>SFR_SAMI_FLAG</th></tr></thead>\n",
       "<thead><tr><th>str16</th><th>str80</th><th>int64</th><th>int64</th><th>int64</th><th>int64</th><th>int64</th><th>int64</th><th>int64</th><th>int64</th><th>int64</th><th>str17</th><th>float64</th><th>float64</th><th>str1</th><th>int64</th><th>str19</th><th>float64</th><th>float64</th><th>int64</th><th>float64</th><th>int64</th><th>float64</th><th>int64</th><th>str23</th><th>float32</th><th>float32</th><th>float32</th><th>float32</th><th>float32</th><th>float32</th><th>int64</th><th>float32</th><th>float64</th><th>float64</th><th>float64</th></tr></thead>\n",
       "<tr><td>6821_A</td><td>6821_7_Y18SAR4_P001_12T126_2018_05_07-2018_05_16</td><td>6821</td><td>0</td><td>0</td><td>1</td><td>0</td><td>0</td><td>0</td><td>0</td><td>0</td><td>--</td><td>--</td><td>--</td><td>--</td><td>0</td><td>--</td><td>--</td><td>--</td><td>--</td><td>--</td><td>--</td><td>--</td><td>0</td><td>--</td><td>--</td><td>--</td><td>--</td><td>--</td><td>--</td><td>--</td><td>0</td><td>7.42</td><td>0.004430000204592943</td><td>-0.8337829957020938</td><td>2.0</td></tr>\n",
       "<tr><td>6837_A</td><td>6837_7_Y18SAR4_P001_12T126_2018_05_07-2018_05_16</td><td>6837</td><td>0</td><td>0</td><td>0</td><td>0</td><td>0</td><td>0</td><td>0</td><td>0</td><td>--</td><td>--</td><td>--</td><td>--</td><td>0</td><td>--</td><td>--</td><td>--</td><td>--</td><td>--</td><td>--</td><td>--</td><td>0</td><td>--</td><td>--</td><td>--</td><td>--</td><td>--</td><td>--</td><td>--</td><td>0</td><td>--</td><td>0.07423999905586243</td><td>-0.10811913977560492</td><td>1.0</td></tr>\n",
       "<tr><td>7139_A</td><td>7139_7_Y18SAR3_P002_12T122_2018_05_07-2018_05_16</td><td>7139</td><td>1</td><td>6</td><td>1</td><td>0</td><td>0</td><td>0</td><td>0</td><td>0</td><td>--</td><td>--</td><td>--</td><td>--</td><td>0</td><td>--</td><td>--</td><td>--</td><td>--</td><td>--</td><td>--</td><td>--</td><td>0</td><td>--</td><td>--</td><td>--</td><td>--</td><td>--</td><td>--</td><td>--</td><td>0</td><td>10.63</td><td>0.07697000354528427</td><td>-1.4812175131637677</td><td>0.0</td></tr>\n",
       "<tr><td>7206_A</td><td>7206_7_Y18SAR3_P002_12T122_2018_05_07-2018_05_16</td><td>7206</td><td>0</td><td>2</td><td>0</td><td>0</td><td>0</td><td>0</td><td>0</td><td>0</td><td>--</td><td>--</td><td>--</td><td>--</td><td>0</td><td>--</td><td>--</td><td>--</td><td>--</td><td>--</td><td>--</td><td>--</td><td>0</td><td>--</td><td>--</td><td>--</td><td>--</td><td>--</td><td>--</td><td>--</td><td>0</td><td>10.48</td><td>0.09470999985933304</td><td>0.5071057664992104</td><td>0.0</td></tr>\n",
       "<tr><td>7289_A</td><td>7289_7_Y18SAR3_P002_12T122_2018_05_07-2018_05_16</td><td>7289</td><td>1</td><td>10</td><td>1</td><td>0</td><td>1</td><td>1</td><td>0</td><td>0</td><td>--</td><td>--</td><td>--</td><td>--</td><td>0</td><td>--</td><td>--</td><td>--</td><td>--</td><td>--</td><td>--</td><td>--</td><td>0</td><td>--</td><td>--</td><td>--</td><td>--</td><td>--</td><td>--</td><td>--</td><td>0</td><td>11.12</td><td>0.08812999725341797</td><td>-0.42963751393666283</td><td>0.0</td></tr>\n",
       "<tr><td>7715_A</td><td>7715_7_Y14SAR4_P002_12T064_2014_05_23-2014_06_01</td><td>7715</td><td>0</td><td>-1</td><td>1</td><td>0</td><td>0</td><td>0</td><td>0</td><td>0</td><td>--</td><td>--</td><td>--</td><td>--</td><td>0</td><td>--</td><td>--</td><td>--</td><td>--</td><td>--</td><td>--</td><td>--</td><td>0</td><td>--</td><td>--</td><td>--</td><td>--</td><td>--</td><td>--</td><td>--</td><td>0</td><td>10.99</td><td>0.07926999777555466</td><td>-0.9876825301304426</td><td>0.0</td></tr>\n",
       "<tr><td>7839_A</td><td>7839_7_Y16SAR4_P002_12T101_2017_04_19-2017_05_01</td><td>7839</td><td>1</td><td>6</td><td>1</td><td>0</td><td>1</td><td>1</td><td>1</td><td>0</td><td>--</td><td>--</td><td>--</td><td>--</td><td>1</td><td>J115827.70+004304.4</td><td>14.397</td><td>0.002</td><td>1</td><td>1.35</td><td>0</td><td>-99.0</td><td>0</td><td>--</td><td>--</td><td>--</td><td>--</td><td>--</td><td>--</td><td>--</td><td>0</td><td>11.05</td><td>0.048739999532699585</td><td>-0.9330332098451861</td><td>1.0</td></tr>\n",
       "<tr><td>7841_A</td><td>7841_7_Y14SAR4_P002_12T064_2014_05_23-2014_06_01</td><td>7841</td><td>0</td><td>-1</td><td>0</td><td>0</td><td>0</td><td>0</td><td>0</td><td>0</td><td>--</td><td>--</td><td>--</td><td>--</td><td>0</td><td>--</td><td>--</td><td>--</td><td>--</td><td>--</td><td>--</td><td>--</td><td>0</td><td>--</td><td>--</td><td>--</td><td>--</td><td>--</td><td>--</td><td>--</td><td>0</td><td>10.96</td><td>0.0798100009560585</td><td>-1.3503192190613338</td><td>0.0</td></tr>\n",
       "<tr><td>7946_A</td><td>7946_7_Y16SAR4_P002_12T101_2017_04_19-2017_05_01</td><td>7946</td><td>1</td><td>6</td><td>1</td><td>0</td><td>1</td><td>1</td><td>0</td><td>0</td><td>--</td><td>--</td><td>--</td><td>--</td><td>0</td><td>--</td><td>--</td><td>--</td><td>--</td><td>--</td><td>--</td><td>--</td><td>0</td><td>--</td><td>--</td><td>--</td><td>--</td><td>--</td><td>--</td><td>--</td><td>0</td><td>10.92</td><td>0.10426999628543854</td><td>0.07435618623620215</td><td>0.0</td></tr>\n",
       "<tr><td>...</td><td>...</td><td>...</td><td>...</td><td>...</td><td>...</td><td>...</td><td>...</td><td>...</td><td>...</td><td>...</td><td>...</td><td>...</td><td>...</td><td>...</td><td>...</td><td>...</td><td>...</td><td>...</td><td>...</td><td>...</td><td>...</td><td>...</td><td>...</td><td>...</td><td>...</td><td>...</td><td>...</td><td>...</td><td>...</td><td>...</td><td>...</td><td>...</td><td>...</td><td>...</td><td>...</td></tr>\n",
       "<tr><td>999091700201_A</td><td>999091700201_7_Y14SAR5_P001_A0917T011_2014_07_17-2014_07_21</td><td>999091700201</td><td>--</td><td>--</td><td>--</td><td>--</td><td>--</td><td>--</td><td>0</td><td>0</td><td>--</td><td>--</td><td>--</td><td>--</td><td>0</td><td>--</td><td>--</td><td>--</td><td>--</td><td>--</td><td>--</td><td>--</td><td>0</td><td>--</td><td>--</td><td>--</td><td>--</td><td>--</td><td>--</td><td>--</td><td>0</td><td>--</td><td>nan</td><td>--</td><td>--</td></tr>\n",
       "<tr><td>999091700397_A</td><td>999091700397_8_Y16SBR1_P001_AP0917T033_2016_09_28-2016_10_04</td><td>999091700397</td><td>--</td><td>--</td><td>--</td><td>--</td><td>--</td><td>--</td><td>0</td><td>0</td><td>--</td><td>--</td><td>--</td><td>--</td><td>0</td><td>--</td><td>--</td><td>--</td><td>--</td><td>--</td><td>--</td><td>--</td><td>0</td><td>--</td><td>--</td><td>--</td><td>--</td><td>--</td><td>--</td><td>--</td><td>0</td><td>--</td><td>nan</td><td>--</td><td>--</td></tr>\n",
       "<tr><td>999388000026_A</td><td>999388000026_7_Y17SAR3_P013_A3880T034_2017_04_19-2017_05_01</td><td>999388000026</td><td>--</td><td>--</td><td>--</td><td>--</td><td>--</td><td>--</td><td>0</td><td>0</td><td>--</td><td>--</td><td>--</td><td>--</td><td>0</td><td>--</td><td>--</td><td>--</td><td>--</td><td>--</td><td>--</td><td>--</td><td>0</td><td>--</td><td>--</td><td>--</td><td>--</td><td>--</td><td>--</td><td>--</td><td>0</td><td>--</td><td>nan</td><td>--</td><td>--</td></tr>\n",
       "<tr><td>999388000109_C</td><td>999388000109_13_Y15SBR1_P001_A3880T025_2015_08_12-2015_08_17</td><td>999388000109</td><td>--</td><td>--</td><td>--</td><td>--</td><td>--</td><td>--</td><td>0</td><td>0</td><td>--</td><td>--</td><td>--</td><td>--</td><td>0</td><td>--</td><td>--</td><td>--</td><td>--</td><td>--</td><td>--</td><td>--</td><td>0</td><td>--</td><td>--</td><td>--</td><td>--</td><td>--</td><td>--</td><td>--</td><td>0</td><td>--</td><td>nan</td><td>--</td><td>--</td></tr>\n",
       "<tr><td>999388000261_B</td><td>999388000261_7_Y17SAR3_P014_A3880T035_2017_09_14-2017_09_26</td><td>999388000261</td><td>--</td><td>--</td><td>--</td><td>--</td><td>--</td><td>--</td><td>0</td><td>0</td><td>--</td><td>--</td><td>--</td><td>--</td><td>0</td><td>--</td><td>--</td><td>--</td><td>--</td><td>--</td><td>--</td><td>--</td><td>0</td><td>--</td><td>--</td><td>--</td><td>--</td><td>--</td><td>--</td><td>--</td><td>0</td><td>--</td><td>nan</td><td>--</td><td>--</td></tr>\n",
       "<tr><td>999388000262_A</td><td>999388000262_7_Y13SBR1_P002_A3880T002_2013_08_30-2013_09_04</td><td>999388000262</td><td>--</td><td>--</td><td>--</td><td>--</td><td>--</td><td>--</td><td>0</td><td>0</td><td>--</td><td>--</td><td>--</td><td>--</td><td>0</td><td>--</td><td>--</td><td>--</td><td>--</td><td>--</td><td>--</td><td>--</td><td>0</td><td>--</td><td>--</td><td>--</td><td>--</td><td>--</td><td>--</td><td>--</td><td>0</td><td>--</td><td>nan</td><td>--</td><td>--</td></tr>\n",
       "<tr><td>999403800283_C</td><td>999403800283_7_Y15SBR1_P003_A4038T026_2015_08_12-2015_08_17</td><td>999403800283</td><td>--</td><td>--</td><td>--</td><td>--</td><td>--</td><td>--</td><td>0</td><td>0</td><td>--</td><td>--</td><td>--</td><td>--</td><td>0</td><td>--</td><td>--</td><td>--</td><td>--</td><td>--</td><td>--</td><td>--</td><td>0</td><td>--</td><td>--</td><td>--</td><td>--</td><td>--</td><td>--</td><td>--</td><td>0</td><td>--</td><td>nan</td><td>--</td><td>--</td></tr>\n",
       "<tr><td>999403800596_A</td><td>999403800596_7_Y13SBR2_P006_A4038T004_2013_10_02-2013_10_08</td><td>999403800596</td><td>--</td><td>--</td><td>--</td><td>--</td><td>--</td><td>--</td><td>0</td><td>0</td><td>--</td><td>--</td><td>--</td><td>--</td><td>0</td><td>--</td><td>--</td><td>--</td><td>--</td><td>--</td><td>--</td><td>--</td><td>0</td><td>--</td><td>--</td><td>--</td><td>--</td><td>--</td><td>--</td><td>--</td><td>0</td><td>--</td><td>nan</td><td>--</td><td>--</td></tr>\n",
       "<tr><td>999403800642_C</td><td>999403800642_7_Y16SBR2_P001_A4038T032_2016_09_28-2016_10_04</td><td>999403800642</td><td>--</td><td>--</td><td>--</td><td>--</td><td>--</td><td>--</td><td>0</td><td>0</td><td>--</td><td>--</td><td>--</td><td>--</td><td>0</td><td>--</td><td>--</td><td>--</td><td>--</td><td>--</td><td>--</td><td>--</td><td>0</td><td>--</td><td>--</td><td>--</td><td>--</td><td>--</td><td>--</td><td>--</td><td>0</td><td>--</td><td>nan</td><td>--</td><td>--</td></tr>\n",
       "<tr><td>999403800795_A</td><td>999403800795_7_Y15SBR1_P005_A4038T027_2015_09_07-2015_09_13</td><td>999403800795</td><td>--</td><td>--</td><td>--</td><td>--</td><td>--</td><td>--</td><td>0</td><td>0</td><td>--</td><td>--</td><td>--</td><td>--</td><td>0</td><td>--</td><td>--</td><td>--</td><td>--</td><td>--</td><td>--</td><td>--</td><td>0</td><td>--</td><td>--</td><td>--</td><td>--</td><td>--</td><td>--</td><td>--</td><td>0</td><td>--</td><td>nan</td><td>--</td><td>--</td></tr>\n",
       "</table></div>"
      ],
      "text/plain": [
       "<Table length=3245>\n",
       "  CUBEIDPUB    ... SFR_SAMI_FLAG\n",
       "    str16      ...    float64   \n",
       "-------------- ... -------------\n",
       "        6821_A ...           2.0\n",
       "        6837_A ...           1.0\n",
       "        7139_A ...           0.0\n",
       "        7206_A ...           0.0\n",
       "        7289_A ...           0.0\n",
       "        7715_A ...           0.0\n",
       "        7839_A ...           1.0\n",
       "        7841_A ...           0.0\n",
       "        7946_A ...           0.0\n",
       "           ... ...           ...\n",
       "999091700201_A ...            --\n",
       "999091700397_A ...            --\n",
       "999388000026_A ...            --\n",
       "999388000109_C ...            --\n",
       "999388000261_B ...            --\n",
       "999388000262_A ...            --\n",
       "999403800283_C ...            --\n",
       "999403800596_A ...            --\n",
       "999403800642_C ...            --\n",
       "999403800795_A ...            --"
      ]
     },
     "execution_count": 6,
     "metadata": {},
     "output_type": "execute_result"
    }
   ],
   "source": []
  }
 ],
 "metadata": {
  "kernelspec": {
   "display_name": "base",
   "language": "python",
   "name": "python3"
  },
  "language_info": {
   "codemirror_mode": {
    "name": "ipython",
    "version": 3
   },
   "file_extension": ".py",
   "mimetype": "text/x-python",
   "name": "python",
   "nbconvert_exporter": "python",
   "pygments_lexer": "ipython3",
   "version": "3.12.10"
  }
 },
 "nbformat": 4,
 "nbformat_minor": 5
}
